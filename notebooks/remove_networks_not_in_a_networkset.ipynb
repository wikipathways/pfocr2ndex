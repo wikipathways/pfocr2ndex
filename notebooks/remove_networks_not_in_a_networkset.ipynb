{
 "cells": [
  {
   "cell_type": "markdown",
   "metadata": {},
   "source": [
    "# Remove networks not in a networkset\n",
    "\n",
    "We want all of our networks to be in at least one networkset. If a network is not in a networkset, let's remove it."
   ]
  },
  {
   "cell_type": "code",
   "execution_count": 1,
   "metadata": {},
   "outputs": [],
   "source": [
    "%load_ext lab_black"
   ]
  },
  {
   "cell_type": "code",
   "execution_count": 2,
   "metadata": {},
   "outputs": [],
   "source": [
    "import ndex2.client\n",
    "import os"
   ]
  },
  {
   "cell_type": "code",
   "execution_count": 3,
   "metadata": {},
   "outputs": [
    {
     "name": "stdout",
     "output_type": "stream",
     "text": [
      "Please enter your NDEx username:\n"
     ]
    },
    {
     "name": "stdin",
     "output_type": "stream",
     "text": [
      " ariutta\n"
     ]
    },
    {
     "name": "stdout",
     "output_type": "stream",
     "text": [
      "Please enter your NDEx password:\n"
     ]
    },
    {
     "name": "stdin",
     "output_type": "stream",
     "text": [
      " ··················\n"
     ]
    },
    {
     "name": "stdout",
     "output_type": "stream",
     "text": [
      "Running as ariutta on http://test.ndexbio.org\n"
     ]
    }
   ],
   "source": [
    "import getpass\n",
    "\n",
    "ndex_user = os.environ.get(\"NDEX_USER\")\n",
    "ndex_pwd = os.environ.get(\"NDEX_PWD\")\n",
    "\n",
    "if not ndex_user:\n",
    "    print(\"Please enter your NDEx username:\")\n",
    "    ndex_user = input()\n",
    "\n",
    "if not ndex_pwd:\n",
    "    print(\"Please enter your NDEx password:\")\n",
    "    ndex_pwd = getpass.getpass()\n",
    "\n",
    "networkset_ids_by_name = dict()\n",
    "\n",
    "if ndex_user == \"wikipathways\":\n",
    "    # for prod\n",
    "    ndex_url = \"http://www.ndexbio.org\"\n",
    "    networkset_ids_by_name[\n",
    "        \"Published Pathway Figures - Analysis Set\"\n",
    "    ] = \"85034b42-de8a-11ea-99da-0ac135e8bacf\"\n",
    "    networkset_ids_by_name[\n",
    "        \"WikiPathways Collection - Homo sapiens\"\n",
    "    ] = \"453c1c63-5c10-11e9-9f06-0ac135e8bacf\"\n",
    "    networkset_ids_by_name[\n",
    "        \"CPTAC Cancer Hallmark Networks\"\n",
    "    ] = \"9541cc61-4cf0-11e9-9f06-0ac135e8bacf\"\n",
    "elif ndex_user:\n",
    "    # for test/dev\n",
    "    ndex_url = \"http://test.ndexbio.org\"\n",
    "    networkset_ids_by_name[\n",
    "        \"Published Pathway Figures - Analysis Set\"\n",
    "    ] = \"8970df33-d6bd-11ea-9101-0660b7976219\"\n",
    "    networkset_ids_by_name[\n",
    "        \"wikipathways-gpml-Homo_sapiens\"\n",
    "    ] = \"b44b7ca7-4da1-11e9-9fc6-0660b7976219\"\n",
    "\n",
    "print(f\"Running as {ndex_user} on {ndex_url}\")"
   ]
  },
  {
   "cell_type": "markdown",
   "metadata": {},
   "source": [
    "## NDEx"
   ]
  },
  {
   "cell_type": "markdown",
   "metadata": {},
   "source": [
    "We log in as the current user."
   ]
  },
  {
   "cell_type": "code",
   "execution_count": 4,
   "metadata": {},
   "outputs": [],
   "source": [
    "my_ndex = ndex2.client.Ndex2(ndex_url, ndex_user, ndex_pwd)"
   ]
  },
  {
   "cell_type": "code",
   "execution_count": 5,
   "metadata": {},
   "outputs": [
    {
     "name": "stdout",
     "output_type": "stream",
     "text": [
      "1000\n",
      "12524\n"
     ]
    }
   ],
   "source": [
    "user_network_ids = set(my_ndex.get_network_ids_for_user(ndex_user))\n",
    "print(len(user_network_ids))\n",
    "\n",
    "# the following is a kludge. see this issue: https://github.com/ndexbio/ndex2-client/issues/78\n",
    "\n",
    "return_limit = 100000\n",
    "\n",
    "user_network_summaries = my_ndex.get_user_network_summaries(ndex_user, 0, return_limit)\n",
    "user_network_summaries_count = len(user_network_summaries)\n",
    "if user_network_summaries_count >= return_limit:\n",
    "    raise Exception(\"User may have more networks than return_limit allows\")\n",
    "\n",
    "user_network_ids = set([x[\"externalId\"] for x in user_network_summaries])\n",
    "del user_network_summaries\n",
    "print(len(user_network_ids))"
   ]
  },
  {
   "cell_type": "code",
   "execution_count": 6,
   "metadata": {},
   "outputs": [],
   "source": [
    "# a network is \"filed\" if it's in a networkset\n",
    "filed_network_ids = set()\n",
    "for networkset_id in list(networkset_ids_by_name.values()):\n",
    "    for network_id in my_ndex.get_networkset(networkset_id)[\"networks\"]:\n",
    "        filed_network_ids.add(network_id)"
   ]
  },
  {
   "cell_type": "code",
   "execution_count": 7,
   "metadata": {},
   "outputs": [
    {
     "name": "stdout",
     "output_type": "stream",
     "text": [
      "12524\n",
      "12522\n",
      "2\n",
      "0\n"
     ]
    }
   ],
   "source": [
    "print(len(user_network_ids))\n",
    "print(len(filed_network_ids))\n",
    "print(len(user_network_ids - filed_network_ids))\n",
    "print(len(filed_network_ids - user_network_ids))"
   ]
  },
  {
   "cell_type": "markdown",
   "metadata": {},
   "source": [
    "If the current user has any networks that are not in at least one networkset, let's delete those \"stray\" networks."
   ]
  },
  {
   "cell_type": "code",
   "execution_count": 12,
   "metadata": {},
   "outputs": [
    {
     "name": "stdout",
     "output_type": "stream",
     "text": [
      "Cannot remove the following network that was shared with me (ariutta): 0a1d8c3e-c862-11ea-a4d3-0660b7976219\n",
      "Cannot remove the following network that was shared with me (ariutta): 0acc68e0-c862-11ea-a4d3-0660b7976219\n"
     ]
    }
   ],
   "source": [
    "for network_id in list(user_network_ids - filed_network_ids):\n",
    "    try:\n",
    "        network_summary = my_ndex.get_network_summary(network_id)\n",
    "    except:\n",
    "        user_network_ids.remove(network_id)\n",
    "        continue\n",
    "\n",
    "    if network_summary[\"owner\"] != ndex_user:\n",
    "        print(\n",
    "            f\"Cannot remove the following network that was shared with me ({ndex_user}): {network_id}\"\n",
    "        )\n",
    "        continue\n",
    "\n",
    "    if not \"name\" in network_summary:\n",
    "        print(f\"******* no name for {network_id}\")\n",
    "        print(network_summary)\n",
    "\n",
    "    if network_summary[\"isReadOnly\"]:\n",
    "        my_ndex.set_read_only(network_id, False)\n",
    "\n",
    "    try:\n",
    "        my_ndex.delete_network(network_id)\n",
    "        user_network_ids.remove(network_id)\n",
    "    except:\n",
    "        print(f\"******* failed: {network_id}\")\n",
    "        print(network_summary)\n",
    "        continue"
   ]
  },
  {
   "cell_type": "code",
   "execution_count": null,
   "metadata": {},
   "outputs": [],
   "source": []
  }
 ],
 "metadata": {
  "jupytext": {
   "formats": "ipynb,py:light"
  },
  "kernelspec": {
   "display_name": "Python3 - mypkgs",
   "language": "python",
   "name": "ipython_mypkgs"
  },
  "language_info": {
   "codemirror_mode": {
    "name": "ipython",
    "version": 3
   },
   "file_extension": ".py",
   "mimetype": "text/x-python",
   "name": "python",
   "nbconvert_exporter": "python",
   "pygments_lexer": "ipython3",
   "version": "3.8.7"
  }
 },
 "nbformat": 4,
 "nbformat_minor": 4
}
