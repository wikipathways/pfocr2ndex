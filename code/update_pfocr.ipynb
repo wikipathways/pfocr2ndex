{
 "cells": [
  {
   "cell_type": "code",
   "execution_count": 1,
   "metadata": {},
   "outputs": [],
   "source": [
    "%load_ext lab_black"
   ]
  },
  {
   "cell_type": "code",
   "execution_count": 2,
   "metadata": {},
   "outputs": [],
   "source": [
    "import json\n",
    "import ndex2.client\n",
    "import os\n",
    "import numpy as np\n",
    "import pandas as pd\n",
    "from pathlib import Path\n",
    "import pprint\n",
    "\n",
    "from caching import cache_from_dropbox"
   ]
  },
  {
   "cell_type": "code",
   "execution_count": 3,
   "metadata": {},
   "outputs": [],
   "source": [
    "pp = pprint.PrettyPrinter(indent=4)"
   ]
  },
  {
   "cell_type": "code",
   "execution_count": null,
   "metadata": {},
   "outputs": [],
   "source": [
    "import getpass\n",
    "\n",
    "ndex_user = os.environ.get(\"NDEX_USER\")\n",
    "ndex_pwd = os.environ.get(\"NDEX_PWD\")\n",
    "\n",
    "if (not ndex_user):\n",
    "    print(\"Please enter your NDEx username:\")\n",
    "    ndex_user=input()\n",
    "    \n",
    "if (not ndex_pwd):\n",
    "    print(\"Please enter your NDEx password:\")\n",
    "    ndex_pwd = getpass.getpass()\n",
    "\n",
    "networkset_ids_by_name = dict()\n",
    "\n",
    "if ndex_user == \"wikipathways\":\n",
    "    # for prod\n",
    "    ndex_url = \"http://www.ndexbio.org\"\n",
    "    networkset_ids_by_name[\n",
    "        \"Published Pathway Figures - Analysis Set\"\n",
    "    ] = \"85034b42-de8a-11ea-99da-0ac135e8bacf\"\n",
    "    networkset_ids_by_name[\n",
    "        \"WikiPathways Collection - Homo sapiens\"\n",
    "    ] = \"453c1c63-5c10-11e9-9f06-0ac135e8bacf\"\n",
    "    networkset_ids_by_name[\n",
    "        \"CPTAC Cancer Hallmark Networks\"\n",
    "    ] = \"9541cc61-4cf0-11e9-9f06-0ac135e8bacf\"\n",
    "elif ndex_user:\n",
    "    # for test/dev\n",
    "    ndex_url = \"http://test.ndexbio.org\"\n",
    "    networkset_ids_by_name[\n",
    "        \"Published Pathway Figures - Analysis Set\"\n",
    "    ] = \"8970df33-d6bd-11ea-9101-0660b7976219\"\n",
    "    networkset_ids_by_name[\n",
    "        \"wikipathways-gpml-Homo_sapiens\"\n",
    "    ] = \"b44b7ca7-4da1-11e9-9fc6-0660b7976219\"\n",
    "    \n",
    "print(f\"Running as {ndex_user} on {ndex_url}\")"
   ]
  },
  {
   "cell_type": "markdown",
   "metadata": {},
   "source": [
    "## NDEx\n",
    "\n",
    "Let's get the current user's info from NDEx to check that we can connect correctly:"
   ]
  },
  {
   "cell_type": "code",
   "execution_count": 5,
   "metadata": {},
   "outputs": [],
   "source": [
    "anon_ndex = ndex2.client.Ndex2(ndex_url)"
   ]
  },
  {
   "cell_type": "code",
   "execution_count": 6,
   "metadata": {},
   "outputs": [
    {
     "data": {
      "text/plain": [
       "{'properties': {},\n",
       " 'isIndividual': True,\n",
       " 'userName': 'wikipathways',\n",
       " 'isVerified': True,\n",
       " 'firstName': 'WikiPathways',\n",
       " 'lastName': 'Project',\n",
       " 'image': 'https://upload.wikimedia.org/wikipedia/commons/8/83/Wplogo_with_text_500.png',\n",
       " 'website': 'https://www.wikipathways.org',\n",
       " 'description': '<p></p><h6>Welcome to the NDEx repository for <a href=\"https://wikipathways.org\" target=\"\">WikiPathways</a>. Here we provide network versions of our curated and approved pathway content. <br/>All our content is freely available under the CC0 waiver. Feel free to clone, download, reuse, adapt and publish. Here\\'s <a href=\"https://www.wikipathways.org/index.php/How_to_cite_WikiPathways\" target=\"\">how to cite us</a>. <br/></h6><h6><b>For WikiPathways Authors</b>: to add new WikiPathways models or edit the original existing ones, please visit <a href=\"https://wikipathways.org\">our website.</a> <br/></h6>',\n",
       " 'externalId': '363f49e0-4cf0-11e9-9f06-0ac135e8bacf',\n",
       " 'isDeleted': False,\n",
       " 'modificationTime': 1597541613501,\n",
       " 'creationTime': 1553293019749}"
      ]
     },
     "execution_count": 6,
     "metadata": {},
     "output_type": "execute_result"
    }
   ],
   "source": [
    "anon_ndex.get_user_by_username(ndex_user)"
   ]
  },
  {
   "cell_type": "markdown",
   "metadata": {},
   "source": [
    "Now we'll log in as the current user:"
   ]
  },
  {
   "cell_type": "code",
   "execution_count": 7,
   "metadata": {},
   "outputs": [],
   "source": [
    "my_ndex = ndex2.client.Ndex2(ndex_url, ndex_user, ndex_pwd)"
   ]
  },
  {
   "cell_type": "markdown",
   "metadata": {},
   "source": [
    "And we'll get the info for the PFOCR network set:"
   ]
  },
  {
   "cell_type": "code",
   "execution_count": 8,
   "metadata": {},
   "outputs": [
    {
     "data": {
      "text/plain": [
       "dict_keys(['name', 'description', 'ownerId', 'networks', 'showcased', 'properties', 'externalId', 'isDeleted', 'modificationTime', 'creationTime'])"
      ]
     },
     "execution_count": 8,
     "metadata": {},
     "output_type": "execute_result"
    }
   ],
   "source": [
    "pfocr_networkset_id = networkset_ids_by_name[\"Published Pathway Figures - Analysis Set\"]\n",
    "\n",
    "pfocr_networkset_data = my_ndex.get_networkset(pfocr_networkset_id)\n",
    "pfocr_networkset_data.keys()"
   ]
  },
  {
   "cell_type": "code",
   "execution_count": 9,
   "metadata": {},
   "outputs": [
    {
     "data": {
      "text/plain": [
       "32263"
      ]
     },
     "execution_count": 9,
     "metadata": {},
     "output_type": "execute_result"
    }
   ],
   "source": [
    "len(pfocr_networkset_data[\"networks\"])"
   ]
  },
  {
   "cell_type": "code",
   "execution_count": 10,
   "metadata": {},
   "outputs": [
    {
     "data": {
      "text/plain": [
       "dict_keys(['ownerUUID', 'isReadOnly', 'subnetworkIds', 'isValid', 'warnings', 'isShowcase', 'isCertified', 'indexLevel', 'hasLayout', 'hasSample', 'cxFileSize', 'cx2FileSize', 'visibility', 'nodeCount', 'completed', 'edgeCount', 'owner', 'version', 'description', 'name', 'properties', 'externalId', 'isDeleted', 'modificationTime', 'creationTime'])"
      ]
     },
     "execution_count": 10,
     "metadata": {},
     "output_type": "execute_result"
    }
   ],
   "source": [
    "sample_network = my_ndex.get_network_summary(pfocr_networkset_data[\"networks\"][0])\n",
    "sample_network.keys()"
   ]
  },
  {
   "cell_type": "markdown",
   "metadata": {},
   "source": [
    "I think we can't search for network by `pfocr_id` (`figid`) because we didn't specify these networks should be indexed:\n",
    "```\n",
    "Visibility: Public (not searchable)\n",
    "```\n",
    "\n",
    "Was this just for test.ndexbio.org or for production too? I think we only index the network set, not the individual networks contained.\n",
    "\n",
    "How should we find `pfocr_id` by `network_id`? What does `include_groups` mean?"
   ]
  },
  {
   "cell_type": "code",
   "execution_count": 12,
   "metadata": {},
   "outputs": [
    {
     "data": {
      "text/plain": [
       "{'numFound': 0, 'start': 0, 'networks': []}"
      ]
     },
     "execution_count": 12,
     "metadata": {},
     "output_type": "execute_result"
    }
   ],
   "source": [
    "my_ndex.search_networks(\n",
    "    search_string=\"PMC5868458__fphys-09-00170-g0003.jpg\",\n",
    "    account_name=ndex_user,\n",
    "    start=0,\n",
    "    size=100,\n",
    "    include_groups=True,\n",
    ")"
   ]
  },
  {
   "cell_type": "markdown",
   "metadata": {},
   "source": [
    "## Map `pfocr_id` to `network_id`"
   ]
  },
  {
   "cell_type": "markdown",
   "metadata": {},
   "source": [
    "Let's get the mappings from `pfocr_id` (`figid`) to `network_id`:\n",
    "\n",
    "TODO: is there a better endpoint to call for this now? Maybe look into the following:\n",
    ">Get Network Summaries By UUIDs\n",
    ">\n",
    ">/batch/network/summary?accesskey={accessKey}\n",
    "\n",
    "https://home.ndexbio.org/using-the-ndex-server-api/"
   ]
  },
  {
   "cell_type": "code",
   "execution_count": 13,
   "metadata": {},
   "outputs": [],
   "source": [
    "cached_pfocr_id_to_network_id_filepath = (\n",
    "    f\"../data/{ndex_user}_pfocr_id_to_network_id.json\"\n",
    ")\n",
    "\n",
    "pfocr_id_to_network_id = dict()\n",
    "\n",
    "cached_pfocr_id_to_network_id_f = (\n",
    "    Path(cached_pfocr_id_to_network_id_filepath).expanduser().resolve()\n",
    ")\n",
    "\n",
    "if cached_pfocr_id_to_network_id_f.exists():\n",
    "    with open(cached_pfocr_id_to_network_id_filepath, \"r\") as f:\n",
    "        pfocr_id_to_network_id = json.load(f)\n",
    "else:\n",
    "    for network_id in pfocr_networkset_data[\"networks\"]:\n",
    "        network_summary = my_ndex.get_network_summary(network_id)\n",
    "        properties = network_summary[\"properties\"]\n",
    "\n",
    "        pfocr_id = next(p for p in properties if p[\"predicateString\"] == \"pfocr_id\")[\n",
    "            \"value\"\n",
    "        ]\n",
    "\n",
    "        if pfocr_id != network_summary[\"name\"]:\n",
    "            raise Exception(\n",
    "                f\"Expected pfocr_id {pfocr_id} to equal network_summary['name'] {network_summary['name']}\"\n",
    "            )\n",
    "\n",
    "        if not pfocr_id in pfocr_id_to_network_id:\n",
    "            pfocr_id_to_network_id[pfocr_id] = network_id\n",
    "        else:\n",
    "            raise Exception(\n",
    "                f\"pfocr_id_to_network_id[{pfocr_id}] already set: {pfocr_id_to_network_id[pfocr_id]}\"\n",
    "            )\n",
    "\n",
    "    with open(cached_pfocr_id_to_network_id_filepath, \"w\") as f:\n",
    "        json.dump(pfocr_id_to_network_id, f)"
   ]
  },
  {
   "cell_type": "code",
   "execution_count": 14,
   "metadata": {},
   "outputs": [
    {
     "data": {
      "text/plain": [
       "('PMC6372626__41467_2019_8576_Fig6_HTML.jpg',\n",
       " '0626a9a9-df0c-11ea-99da-0ac135e8bacf')"
      ]
     },
     "execution_count": 14,
     "metadata": {},
     "output_type": "execute_result"
    }
   ],
   "source": [
    "list(pfocr_id_to_network_id.items())[0]"
   ]
  },
  {
   "cell_type": "markdown",
   "metadata": {},
   "source": [
    "## Load PFOCR Data"
   ]
  },
  {
   "cell_type": "code",
   "execution_count": 15,
   "metadata": {},
   "outputs": [
    {
     "name": "stderr",
     "output_type": "stream",
     "text": [
      "/nix/store/1p75vcb4phw4x10rk6jzm00b3jcccz40-python3-3.8.7-env/lib/python3.8/site-packages/rpy2/robjects/vectors.py:980: UserWarning: R object inheriting from \"POSIXct\" but without attribute \"tzone\".\n",
      "  warnings.warn('R object inheriting from \"POSIXct\" but without '\n"
     ]
    }
   ],
   "source": [
    "import pandas as pd\n",
    "import rpy2.robjects as ro\n",
    "from rpy2.robjects.packages import importr\n",
    "from rpy2.robjects import pandas2ri\n",
    "\n",
    "from rpy2.robjects.conversion import localconverter\n",
    "\n",
    "pandas2ri.activate()\n",
    "base = importr(\"base\")\n",
    "readRDS = ro.r[\"readRDS\"]"
   ]
  },
  {
   "cell_type": "markdown",
   "metadata": {
    "tags": []
   },
   "source": [
    "### figures"
   ]
  },
  {
   "cell_type": "code",
   "execution_count": 16,
   "metadata": {},
   "outputs": [
    {
     "name": "stdout",
     "output_type": "stream",
     "text": [
      "/home/ariutta/Dropbox (Gladstone)/Documents/PFOCR_25Years/analysis_set_figure_ids.tsv exists. Assuming already cached.\n"
     ]
    },
    {
     "data": {
      "text/plain": [
       "32279"
      ]
     },
     "execution_count": 16,
     "metadata": {},
     "output_type": "execute_result"
    }
   ],
   "source": [
    "analysis_set_figure_ids_url = (\n",
    "    \"https://www.dropbox.com/s/r7kc2hwzou3r2gm/analysis_set_figure_ids.tsv?dl=1\"\n",
    ")\n",
    "analysis_set_figure_ids_f = Path(\n",
    "    \"~/Dropbox (Gladstone)/Documents/PFOCR_25Years/analysis_set_figure_ids.tsv\"\n",
    ").expanduser()\n",
    "cache_from_dropbox(url=analysis_set_figure_ids_url, dest=analysis_set_figure_ids_f)\n",
    "\n",
    "analysis_set_figure_ids = set()\n",
    "with open(analysis_set_figure_ids_f, \"r\") as f:\n",
    "    for line in f.read().splitlines():\n",
    "        analysis_set_figure_ids.add(line)\n",
    "\n",
    "len(analysis_set_figure_ids)"
   ]
  },
  {
   "cell_type": "code",
   "execution_count": 17,
   "metadata": {},
   "outputs": [
    {
     "name": "stdout",
     "output_type": "stream",
     "text": [
      "~/Dropbox (Gladstone)/Documents/PFOCR_25Years/pfocr_figures.rds exists. Assuming already cached.\n"
     ]
    },
    {
     "data": {
      "text/html": [
       "<div>\n",
       "<style scoped>\n",
       "    .dataframe tbody tr th:only-of-type {\n",
       "        vertical-align: middle;\n",
       "    }\n",
       "\n",
       "    .dataframe tbody tr th {\n",
       "        vertical-align: top;\n",
       "    }\n",
       "\n",
       "    .dataframe thead th {\n",
       "        text-align: right;\n",
       "    }\n",
       "</style>\n",
       "<table border=\"1\" class=\"dataframe\">\n",
       "  <thead>\n",
       "    <tr style=\"text-align: right;\">\n",
       "      <th></th>\n",
       "      <th>pfocr_id</th>\n",
       "      <th>pmcid</th>\n",
       "      <th>filename</th>\n",
       "      <th>publication_year</th>\n",
       "      <th>pathway_score</th>\n",
       "      <th>pmc_ranked_result_index</th>\n",
       "      <th>figlink</th>\n",
       "      <th>source_f</th>\n",
       "      <th>type.man</th>\n",
       "      <th>automl_index</th>\n",
       "      <th>reftext</th>\n",
       "      <th>paper_title</th>\n",
       "      <th>figure_title</th>\n",
       "      <th>figure_number</th>\n",
       "      <th>caption</th>\n",
       "      <th>organism</th>\n",
       "      <th>paper_link</th>\n",
       "      <th>figure_link</th>\n",
       "    </tr>\n",
       "  </thead>\n",
       "  <tbody>\n",
       "    <tr>\n",
       "      <th>1</th>\n",
       "      <td>PMC5653847__41598_2017_14124_Fig8_HTML.jpg</td>\n",
       "      <td>PMC5653847</td>\n",
       "      <td>41598_2017_14124_Fig8_HTML.jpg</td>\n",
       "      <td>2017</td>\n",
       "      <td>0.968270</td>\n",
       "      <td>133303</td>\n",
       "      <td>/pmc/articles/PMC5653847/figure/Fig8/</td>\n",
       "      <td>../data/images/PMC5653847__41598_2017_14124_Fi...</td>\n",
       "      <td>None</td>\n",
       "      <td>3012</td>\n",
       "      <td>Céline Barthelemy, et al. Sci Rep. 2017;7:13816.</td>\n",
       "      <td>FTY720-induced endocytosis of yeast and human ...</td>\n",
       "      <td>Model of FTY720-induced transporter endocytosi...</td>\n",
       "      <td>Figure 8</td>\n",
       "      <td>Model of FTY720-induced transporter endocytosi...</td>\n",
       "      <td>Homo sapiens</td>\n",
       "      <td>https://www.ncbi.nlm.nih.gov/pmc/articles/PMC5...</td>\n",
       "      <td>https://www.ncbi.nlm.nih.gov/pmc/articles/PMC5...</td>\n",
       "    </tr>\n",
       "    <tr>\n",
       "      <th>2</th>\n",
       "      <td>PMC4187043__zh20191474070013.jpg</td>\n",
       "      <td>PMC4187043</td>\n",
       "      <td>zh20191474070013.jpg</td>\n",
       "      <td>2014</td>\n",
       "      <td>0.965793</td>\n",
       "      <td>79929</td>\n",
       "      <td>/pmc/articles/PMC4187043/figure/F13/</td>\n",
       "      <td>../data/images/PMC4187043__zh20191474070013.jpg</td>\n",
       "      <td>None</td>\n",
       "      <td>4323</td>\n",
       "      <td>Yuan Wei, et al. Am J Physiol Renal Physiol. 2...</td>\n",
       "      <td>Angiotensin II type 2 receptor regulates ROMK-...</td>\n",
       "      <td>Stimulatory effect of ANG II on ROMK channel a...</td>\n",
       "      <td>Fig. 13</td>\n",
       "      <td>Proposed signaling pathway by which the stimul...</td>\n",
       "      <td>Homo sapiens</td>\n",
       "      <td>https://www.ncbi.nlm.nih.gov/pmc/articles/PMC4...</td>\n",
       "      <td>https://www.ncbi.nlm.nih.gov/pmc/articles/PMC4...</td>\n",
       "    </tr>\n",
       "  </tbody>\n",
       "</table>\n",
       "</div>"
      ],
      "text/plain": [
       "                                     pfocr_id       pmcid  \\\n",
       "1  PMC5653847__41598_2017_14124_Fig8_HTML.jpg  PMC5653847   \n",
       "2            PMC4187043__zh20191474070013.jpg  PMC4187043   \n",
       "\n",
       "                         filename publication_year  pathway_score  \\\n",
       "1  41598_2017_14124_Fig8_HTML.jpg             2017       0.968270   \n",
       "2            zh20191474070013.jpg             2014       0.965793   \n",
       "\n",
       "   pmc_ranked_result_index                                figlink  \\\n",
       "1                   133303  /pmc/articles/PMC5653847/figure/Fig8/   \n",
       "2                    79929   /pmc/articles/PMC4187043/figure/F13/   \n",
       "\n",
       "                                            source_f type.man  automl_index  \\\n",
       "1  ../data/images/PMC5653847__41598_2017_14124_Fi...     None          3012   \n",
       "2    ../data/images/PMC4187043__zh20191474070013.jpg     None          4323   \n",
       "\n",
       "                                             reftext  \\\n",
       "1   Céline Barthelemy, et al. Sci Rep. 2017;7:13816.   \n",
       "2  Yuan Wei, et al. Am J Physiol Renal Physiol. 2...   \n",
       "\n",
       "                                         paper_title  \\\n",
       "1  FTY720-induced endocytosis of yeast and human ...   \n",
       "2  Angiotensin II type 2 receptor regulates ROMK-...   \n",
       "\n",
       "                                        figure_title figure_number  \\\n",
       "1  Model of FTY720-induced transporter endocytosi...      Figure 8   \n",
       "2  Stimulatory effect of ANG II on ROMK channel a...       Fig. 13   \n",
       "\n",
       "                                             caption      organism  \\\n",
       "1  Model of FTY720-induced transporter endocytosi...  Homo sapiens   \n",
       "2  Proposed signaling pathway by which the stimul...  Homo sapiens   \n",
       "\n",
       "                                          paper_link  \\\n",
       "1  https://www.ncbi.nlm.nih.gov/pmc/articles/PMC5...   \n",
       "2  https://www.ncbi.nlm.nih.gov/pmc/articles/PMC4...   \n",
       "\n",
       "                                         figure_link  \n",
       "1  https://www.ncbi.nlm.nih.gov/pmc/articles/PMC5...  \n",
       "2  https://www.ncbi.nlm.nih.gov/pmc/articles/PMC4...  "
      ]
     },
     "execution_count": 17,
     "metadata": {},
     "output_type": "execute_result"
    }
   ],
   "source": [
    "pfocr_figures_rds_url = (\n",
    "    \"https://www.dropbox.com/s/n5j6vrd1v93ve05/pfocr_figures.rds?dl=1\"\n",
    ")\n",
    "pfocr_figures_f = \"~/Dropbox (Gladstone)/Documents/PFOCR_25Years/pfocr_figures.rds\"\n",
    "cache_from_dropbox(url=pfocr_figures_rds_url, dest=pfocr_figures_f)\n",
    "pfocr_figures_rdf = readRDS(pfocr_figures_f)\n",
    "with localconverter(ro.default_converter + pandas2ri.converter):\n",
    "    pfocr_figures_df = ro.conversion.rpy2py(pfocr_figures_rdf).rename(\n",
    "        columns={\n",
    "            \"figid\": \"pfocr_id\",\n",
    "            \"year\": \"publication_year\",\n",
    "            \"number\": \"figure_number\",\n",
    "            \"figtitle\": \"figure_title\",\n",
    "            \"papertitle\": \"paper_title\",\n",
    "        }\n",
    "    )\n",
    "\n",
    "pfocr_figures_df[\"paper_link\"] = (\n",
    "    \"https://www.ncbi.nlm.nih.gov/pmc/articles/\" + pfocr_figures_df[\"pmcid\"]\n",
    ")\n",
    "\n",
    "# pfocr_figures_df[\"figure_link\"] = (\n",
    "#    \"https://www.ncbi.nlm.nih.gov/pmc/articles/\"\n",
    "#    + pfocr_figures_df[\"pmcid\"]\n",
    "#    + \"/bin/\"\n",
    "#    + pfocr_figures_df[\"filename\"]\n",
    "# )\n",
    "\n",
    "pfocr_figures_df[\"figure_link\"] = (\n",
    "    \"https://www.ncbi.nlm.nih.gov\" + pfocr_figures_df[\"figlink\"]\n",
    ")\n",
    "\n",
    "\n",
    "pfocr_figures_df.head(2)"
   ]
  },
  {
   "cell_type": "code",
   "execution_count": 18,
   "metadata": {},
   "outputs": [
    {
     "name": "stdout",
     "output_type": "stream",
     "text": [
      "32279\n",
      "32364\n",
      "0\n"
     ]
    }
   ],
   "source": [
    "print(len(analysis_set_figure_ids))\n",
    "print(len(set(pfocr_figures_df[\"pfocr_id\"]) - analysis_set_figure_ids))\n",
    "print(len(analysis_set_figure_ids - set(pfocr_figures_df[\"pfocr_id\"])))"
   ]
  },
  {
   "cell_type": "markdown",
   "metadata": {
    "tags": []
   },
   "source": [
    "Add column `network_id` (for NDEx):"
   ]
  },
  {
   "cell_type": "code",
   "execution_count": 19,
   "metadata": {},
   "outputs": [
    {
     "data": {
      "text/html": [
       "<div>\n",
       "<style scoped>\n",
       "    .dataframe tbody tr th:only-of-type {\n",
       "        vertical-align: middle;\n",
       "    }\n",
       "\n",
       "    .dataframe tbody tr th {\n",
       "        vertical-align: top;\n",
       "    }\n",
       "\n",
       "    .dataframe thead th {\n",
       "        text-align: right;\n",
       "    }\n",
       "</style>\n",
       "<table border=\"1\" class=\"dataframe\">\n",
       "  <thead>\n",
       "    <tr style=\"text-align: right;\">\n",
       "      <th></th>\n",
       "      <th>pfocr_id</th>\n",
       "      <th>pmcid</th>\n",
       "      <th>filename</th>\n",
       "      <th>publication_year</th>\n",
       "      <th>pathway_score</th>\n",
       "      <th>pmc_ranked_result_index</th>\n",
       "      <th>figlink</th>\n",
       "      <th>source_f</th>\n",
       "      <th>type.man</th>\n",
       "      <th>automl_index</th>\n",
       "      <th>reftext</th>\n",
       "      <th>paper_title</th>\n",
       "      <th>figure_title</th>\n",
       "      <th>figure_number</th>\n",
       "      <th>caption</th>\n",
       "      <th>organism</th>\n",
       "      <th>paper_link</th>\n",
       "      <th>figure_link</th>\n",
       "      <th>network_id</th>\n",
       "    </tr>\n",
       "  </thead>\n",
       "  <tbody>\n",
       "    <tr>\n",
       "      <th>2</th>\n",
       "      <td>PMC4187043__zh20191474070013.jpg</td>\n",
       "      <td>PMC4187043</td>\n",
       "      <td>zh20191474070013.jpg</td>\n",
       "      <td>2014</td>\n",
       "      <td>0.965793</td>\n",
       "      <td>79929</td>\n",
       "      <td>/pmc/articles/PMC4187043/figure/F13/</td>\n",
       "      <td>../data/images/PMC4187043__zh20191474070013.jpg</td>\n",
       "      <td>None</td>\n",
       "      <td>4323</td>\n",
       "      <td>Yuan Wei, et al. Am J Physiol Renal Physiol. 2...</td>\n",
       "      <td>Angiotensin II type 2 receptor regulates ROMK-...</td>\n",
       "      <td>Stimulatory effect of ANG II on ROMK channel a...</td>\n",
       "      <td>Fig. 13</td>\n",
       "      <td>Proposed signaling pathway by which the stimul...</td>\n",
       "      <td>Homo sapiens</td>\n",
       "      <td>https://www.ncbi.nlm.nih.gov/pmc/articles/PMC4...</td>\n",
       "      <td>https://www.ncbi.nlm.nih.gov/pmc/articles/PMC4...</td>\n",
       "      <td>45985f21-de8d-11ea-99da-0ac135e8bacf</td>\n",
       "    </tr>\n",
       "    <tr>\n",
       "      <th>8</th>\n",
       "      <td>PMC2839263__bph0159-1051-f1.jpg</td>\n",
       "      <td>PMC2839263</td>\n",
       "      <td>bph0159-1051-f1.jpg</td>\n",
       "      <td>2010</td>\n",
       "      <td>0.963343</td>\n",
       "      <td>42250</td>\n",
       "      <td>/pmc/articles/PMC2839263/figure/fig01/</td>\n",
       "      <td>../data/images/PMC2839263__bph0159-1051-f1.jpg</td>\n",
       "      <td>None</td>\n",
       "      <td>5754</td>\n",
       "      <td>Gunnar Schulte, et al. Br J Pharmacol. 2010 Ma...</td>\n",
       "      <td>β-arrestins – scaffolds and signalling element...</td>\n",
       "      <td>Beta-arrestin related to the oncogene WNT1 sig...</td>\n",
       "      <td>Figure 1</td>\n",
       "      <td>Schematic summary of possible localization of ...</td>\n",
       "      <td>Homo sapiens</td>\n",
       "      <td>https://www.ncbi.nlm.nih.gov/pmc/articles/PMC2...</td>\n",
       "      <td>https://www.ncbi.nlm.nih.gov/pmc/articles/PMC2...</td>\n",
       "      <td>469f95f4-de8d-11ea-99da-0ac135e8bacf</td>\n",
       "    </tr>\n",
       "  </tbody>\n",
       "</table>\n",
       "</div>"
      ],
      "text/plain": [
       "                           pfocr_id       pmcid              filename  \\\n",
       "2  PMC4187043__zh20191474070013.jpg  PMC4187043  zh20191474070013.jpg   \n",
       "8   PMC2839263__bph0159-1051-f1.jpg  PMC2839263   bph0159-1051-f1.jpg   \n",
       "\n",
       "  publication_year  pathway_score  pmc_ranked_result_index  \\\n",
       "2             2014       0.965793                    79929   \n",
       "8             2010       0.963343                    42250   \n",
       "\n",
       "                                  figlink  \\\n",
       "2    /pmc/articles/PMC4187043/figure/F13/   \n",
       "8  /pmc/articles/PMC2839263/figure/fig01/   \n",
       "\n",
       "                                          source_f type.man  automl_index  \\\n",
       "2  ../data/images/PMC4187043__zh20191474070013.jpg     None          4323   \n",
       "8   ../data/images/PMC2839263__bph0159-1051-f1.jpg     None          5754   \n",
       "\n",
       "                                             reftext  \\\n",
       "2  Yuan Wei, et al. Am J Physiol Renal Physiol. 2...   \n",
       "8  Gunnar Schulte, et al. Br J Pharmacol. 2010 Ma...   \n",
       "\n",
       "                                         paper_title  \\\n",
       "2  Angiotensin II type 2 receptor regulates ROMK-...   \n",
       "8  β-arrestins – scaffolds and signalling element...   \n",
       "\n",
       "                                        figure_title figure_number  \\\n",
       "2  Stimulatory effect of ANG II on ROMK channel a...       Fig. 13   \n",
       "8  Beta-arrestin related to the oncogene WNT1 sig...      Figure 1   \n",
       "\n",
       "                                             caption      organism  \\\n",
       "2  Proposed signaling pathway by which the stimul...  Homo sapiens   \n",
       "8  Schematic summary of possible localization of ...  Homo sapiens   \n",
       "\n",
       "                                          paper_link  \\\n",
       "2  https://www.ncbi.nlm.nih.gov/pmc/articles/PMC4...   \n",
       "8  https://www.ncbi.nlm.nih.gov/pmc/articles/PMC2...   \n",
       "\n",
       "                                         figure_link  \\\n",
       "2  https://www.ncbi.nlm.nih.gov/pmc/articles/PMC4...   \n",
       "8  https://www.ncbi.nlm.nih.gov/pmc/articles/PMC2...   \n",
       "\n",
       "                             network_id  \n",
       "2  45985f21-de8d-11ea-99da-0ac135e8bacf  \n",
       "8  469f95f4-de8d-11ea-99da-0ac135e8bacf  "
      ]
     },
     "execution_count": 19,
     "metadata": {},
     "output_type": "execute_result"
    }
   ],
   "source": [
    "pfocr_figures_df[\"network_id\"] = pfocr_figures_df[\"pfocr_id\"].apply(\n",
    "    lambda pfocr_id: pfocr_id_to_network_id.get(pfocr_id, None)\n",
    ")\n",
    "pfocr_figures_df[pfocr_figures_df[\"network_id\"].notnull()].head(2)"
   ]
  },
  {
   "cell_type": "markdown",
   "metadata": {},
   "source": [
    "Let's add some columns we know we'll use"
   ]
  },
  {
   "cell_type": "code",
   "execution_count": 20,
   "metadata": {},
   "outputs": [],
   "source": [
    "pfocr_figures_df[\n",
    "    \"methods\"\n",
    "] = \"Pathway Figure OCR, https://www.biorxiv.org/content/10.1101/2020.05.29.124503v1.full \"\n",
    "\n",
    "pfocr_figures_df[\"rights\"] = \"Waiver-No rights reserved (CC0)\"\n",
    "\n",
    "pfocr_figures_df[\"networkType\"] = \"pathway\"\n",
    "\n",
    "## the following takes too much memory\n",
    "# pfocr_df[\"reference\"] = (\n",
    "#    pfocr_df[\"reftext\"].astype(\"str\")\n",
    "#    + \"<b>\"\n",
    "#    + pfocr_df[\"paper_title\"].astype(\"str\")\n",
    "#    + '</b> <a href=\"'\n",
    "#    + pfocr_df[\"paper_link\"].astype(\"str\")\n",
    "#    + 'target=\"_blank\">'\n",
    "#    + pfocr_df[\"paper_link\"].astype(\"str\")\n",
    "#    + \"</a>\"\n",
    "# )"
   ]
  },
  {
   "cell_type": "markdown",
   "metadata": {
    "tags": []
   },
   "source": [
    "### genes"
   ]
  },
  {
   "cell_type": "code",
   "execution_count": 21,
   "metadata": {},
   "outputs": [
    {
     "name": "stdout",
     "output_type": "stream",
     "text": [
      "~/Dropbox (Gladstone)/Documents/PFOCR_25Years/pfocr_genes.rds exists. Assuming already cached.\n"
     ]
    },
    {
     "data": {
      "text/html": [
       "<div>\n",
       "<style scoped>\n",
       "    .dataframe tbody tr th:only-of-type {\n",
       "        vertical-align: middle;\n",
       "    }\n",
       "\n",
       "    .dataframe tbody tr th {\n",
       "        vertical-align: top;\n",
       "    }\n",
       "\n",
       "    .dataframe thead th {\n",
       "        text-align: right;\n",
       "    }\n",
       "</style>\n",
       "<table border=\"1\" class=\"dataframe\">\n",
       "  <thead>\n",
       "    <tr style=\"text-align: right;\">\n",
       "      <th></th>\n",
       "      <th>figid</th>\n",
       "      <th>pmcid</th>\n",
       "      <th>word</th>\n",
       "      <th>symbol</th>\n",
       "      <th>source</th>\n",
       "      <th>hgnc_symbol</th>\n",
       "      <th>entrez</th>\n",
       "    </tr>\n",
       "  </thead>\n",
       "  <tbody>\n",
       "    <tr>\n",
       "      <th>1</th>\n",
       "      <td>PMC100003__mb2410470011.jpg</td>\n",
       "      <td>PMC100003</td>\n",
       "      <td>Ga12,Gaq</td>\n",
       "      <td>G-ALPHA-q</td>\n",
       "      <td>hgnc_alias_symbol</td>\n",
       "      <td>GNAQ</td>\n",
       "      <td>2776</td>\n",
       "    </tr>\n",
       "    <tr>\n",
       "      <th>2</th>\n",
       "      <td>PMC100003__mb2410470011.jpg</td>\n",
       "      <td>PMC100003</td>\n",
       "      <td>Etk</td>\n",
       "      <td>ETK</td>\n",
       "      <td>hgnc_alias_symbol</td>\n",
       "      <td>BMX</td>\n",
       "      <td>660</td>\n",
       "    </tr>\n",
       "  </tbody>\n",
       "</table>\n",
       "</div>"
      ],
      "text/plain": [
       "                         figid      pmcid      word     symbol  \\\n",
       "1  PMC100003__mb2410470011.jpg  PMC100003  Ga12,Gaq  G-ALPHA-q   \n",
       "2  PMC100003__mb2410470011.jpg  PMC100003       Etk        ETK   \n",
       "\n",
       "              source hgnc_symbol  entrez  \n",
       "1  hgnc_alias_symbol        GNAQ    2776  \n",
       "2  hgnc_alias_symbol         BMX     660  "
      ]
     },
     "execution_count": 21,
     "metadata": {},
     "output_type": "execute_result"
    }
   ],
   "source": [
    "pfocr_genes_rds_url = \"https://www.dropbox.com/s/alf7auvxve36oer/pfocr_genes.rds?dl=1\"\n",
    "pfocr_genes_f = \"~/Dropbox (Gladstone)/Documents/PFOCR_25Years/pfocr_genes.rds\"\n",
    "cache_from_dropbox(url=pfocr_genes_rds_url, dest=pfocr_genes_f)\n",
    "pfocr_genes_rdf = readRDS(pfocr_genes_f)\n",
    "with localconverter(ro.default_converter + pandas2ri.converter):\n",
    "    pfocr_genes_df = ro.conversion.rpy2py(pfocr_genes_rdf)\n",
    "\n",
    "pfocr_genes_df.head(2)"
   ]
  },
  {
   "cell_type": "markdown",
   "metadata": {
    "tags": []
   },
   "source": [
    "### merge"
   ]
  },
  {
   "cell_type": "code",
   "execution_count": 22,
   "metadata": {},
   "outputs": [
    {
     "data": {
      "text/html": [
       "<div>\n",
       "<style scoped>\n",
       "    .dataframe tbody tr th:only-of-type {\n",
       "        vertical-align: middle;\n",
       "    }\n",
       "\n",
       "    .dataframe tbody tr th {\n",
       "        vertical-align: top;\n",
       "    }\n",
       "\n",
       "    .dataframe thead th {\n",
       "        text-align: right;\n",
       "    }\n",
       "</style>\n",
       "<table border=\"1\" class=\"dataframe\">\n",
       "  <thead>\n",
       "    <tr style=\"text-align: right;\">\n",
       "      <th></th>\n",
       "      <th>pfocr_id</th>\n",
       "      <th>pmcid</th>\n",
       "      <th>filename</th>\n",
       "      <th>publication_year</th>\n",
       "      <th>pathway_score</th>\n",
       "      <th>pmc_ranked_result_index</th>\n",
       "      <th>figlink</th>\n",
       "      <th>source_f</th>\n",
       "      <th>type.man</th>\n",
       "      <th>automl_index</th>\n",
       "      <th>...</th>\n",
       "      <th>figure_link</th>\n",
       "      <th>network_id</th>\n",
       "      <th>methods</th>\n",
       "      <th>rights</th>\n",
       "      <th>networkType</th>\n",
       "      <th>word</th>\n",
       "      <th>symbol</th>\n",
       "      <th>source</th>\n",
       "      <th>hgnc_symbol</th>\n",
       "      <th>entrez</th>\n",
       "    </tr>\n",
       "  </thead>\n",
       "  <tbody>\n",
       "    <tr>\n",
       "      <th>0</th>\n",
       "      <td>PMC6134364__GE-4-357-g005.jpg</td>\n",
       "      <td>PMC6134364</td>\n",
       "      <td>GE-4-357-g005.jpg</td>\n",
       "      <td>1995</td>\n",
       "      <td>0.882552</td>\n",
       "      <td>115615</td>\n",
       "      <td>/pmc/articles/PMC6134364/figure/fig5/</td>\n",
       "      <td>../data/images/PMC6134364__GE-4-357-g005.jpg</td>\n",
       "      <td>None</td>\n",
       "      <td>42272</td>\n",
       "      <td>...</td>\n",
       "      <td>https://www.ncbi.nlm.nih.gov/pmc/articles/PMC6...</td>\n",
       "      <td>a6088798-df17-11ea-99da-0ac135e8bacf</td>\n",
       "      <td>Pathway Figure OCR, https://www.biorxiv.org/co...</td>\n",
       "      <td>Waiver-No rights reserved (CC0)</td>\n",
       "      <td>pathway</td>\n",
       "      <td>elF-2-</td>\n",
       "      <td>ELF2</td>\n",
       "      <td>hgnc_symbol</td>\n",
       "      <td>ELF2</td>\n",
       "      <td>1998</td>\n",
       "    </tr>\n",
       "    <tr>\n",
       "      <th>1</th>\n",
       "      <td>PMC6134364__GE-4-357-g005.jpg</td>\n",
       "      <td>PMC6134364</td>\n",
       "      <td>GE-4-357-g005.jpg</td>\n",
       "      <td>1995</td>\n",
       "      <td>0.882552</td>\n",
       "      <td>115615</td>\n",
       "      <td>/pmc/articles/PMC6134364/figure/fig5/</td>\n",
       "      <td>../data/images/PMC6134364__GE-4-357-g005.jpg</td>\n",
       "      <td>None</td>\n",
       "      <td>42272</td>\n",
       "      <td>...</td>\n",
       "      <td>https://www.ncbi.nlm.nih.gov/pmc/articles/PMC6...</td>\n",
       "      <td>a6088798-df17-11ea-99da-0ac135e8bacf</td>\n",
       "      <td>Pathway Figure OCR, https://www.biorxiv.org/co...</td>\n",
       "      <td>Waiver-No rights reserved (CC0)</td>\n",
       "      <td>pathway</td>\n",
       "      <td>Interferon</td>\n",
       "      <td>Interferon</td>\n",
       "      <td>bioentities_symbol</td>\n",
       "      <td>IFNA1</td>\n",
       "      <td>3439</td>\n",
       "    </tr>\n",
       "    <tr>\n",
       "      <th>2</th>\n",
       "      <td>PMC6134364__GE-4-357-g005.jpg</td>\n",
       "      <td>PMC6134364</td>\n",
       "      <td>GE-4-357-g005.jpg</td>\n",
       "      <td>1995</td>\n",
       "      <td>0.882552</td>\n",
       "      <td>115615</td>\n",
       "      <td>/pmc/articles/PMC6134364/figure/fig5/</td>\n",
       "      <td>../data/images/PMC6134364__GE-4-357-g005.jpg</td>\n",
       "      <td>None</td>\n",
       "      <td>42272</td>\n",
       "      <td>...</td>\n",
       "      <td>https://www.ncbi.nlm.nih.gov/pmc/articles/PMC6...</td>\n",
       "      <td>a6088798-df17-11ea-99da-0ac135e8bacf</td>\n",
       "      <td>Pathway Figure OCR, https://www.biorxiv.org/co...</td>\n",
       "      <td>Waiver-No rights reserved (CC0)</td>\n",
       "      <td>pathway</td>\n",
       "      <td>Interferon</td>\n",
       "      <td>Interferon</td>\n",
       "      <td>bioentities_symbol</td>\n",
       "      <td>IFNA2</td>\n",
       "      <td>3440</td>\n",
       "    </tr>\n",
       "    <tr>\n",
       "      <th>3</th>\n",
       "      <td>PMC6134364__GE-4-357-g005.jpg</td>\n",
       "      <td>PMC6134364</td>\n",
       "      <td>GE-4-357-g005.jpg</td>\n",
       "      <td>1995</td>\n",
       "      <td>0.882552</td>\n",
       "      <td>115615</td>\n",
       "      <td>/pmc/articles/PMC6134364/figure/fig5/</td>\n",
       "      <td>../data/images/PMC6134364__GE-4-357-g005.jpg</td>\n",
       "      <td>None</td>\n",
       "      <td>42272</td>\n",
       "      <td>...</td>\n",
       "      <td>https://www.ncbi.nlm.nih.gov/pmc/articles/PMC6...</td>\n",
       "      <td>a6088798-df17-11ea-99da-0ac135e8bacf</td>\n",
       "      <td>Pathway Figure OCR, https://www.biorxiv.org/co...</td>\n",
       "      <td>Waiver-No rights reserved (CC0)</td>\n",
       "      <td>pathway</td>\n",
       "      <td>Interferon</td>\n",
       "      <td>Interferon</td>\n",
       "      <td>bioentities_symbol</td>\n",
       "      <td>IFNA4</td>\n",
       "      <td>3441</td>\n",
       "    </tr>\n",
       "    <tr>\n",
       "      <th>4</th>\n",
       "      <td>PMC6134364__GE-4-357-g005.jpg</td>\n",
       "      <td>PMC6134364</td>\n",
       "      <td>GE-4-357-g005.jpg</td>\n",
       "      <td>1995</td>\n",
       "      <td>0.882552</td>\n",
       "      <td>115615</td>\n",
       "      <td>/pmc/articles/PMC6134364/figure/fig5/</td>\n",
       "      <td>../data/images/PMC6134364__GE-4-357-g005.jpg</td>\n",
       "      <td>None</td>\n",
       "      <td>42272</td>\n",
       "      <td>...</td>\n",
       "      <td>https://www.ncbi.nlm.nih.gov/pmc/articles/PMC6...</td>\n",
       "      <td>a6088798-df17-11ea-99da-0ac135e8bacf</td>\n",
       "      <td>Pathway Figure OCR, https://www.biorxiv.org/co...</td>\n",
       "      <td>Waiver-No rights reserved (CC0)</td>\n",
       "      <td>pathway</td>\n",
       "      <td>Interferon</td>\n",
       "      <td>Interferon</td>\n",
       "      <td>bioentities_symbol</td>\n",
       "      <td>IFNA5</td>\n",
       "      <td>3442</td>\n",
       "    </tr>\n",
       "  </tbody>\n",
       "</table>\n",
       "<p>5 rows × 27 columns</p>\n",
       "</div>"
      ],
      "text/plain": [
       "                        pfocr_id       pmcid           filename  \\\n",
       "0  PMC6134364__GE-4-357-g005.jpg  PMC6134364  GE-4-357-g005.jpg   \n",
       "1  PMC6134364__GE-4-357-g005.jpg  PMC6134364  GE-4-357-g005.jpg   \n",
       "2  PMC6134364__GE-4-357-g005.jpg  PMC6134364  GE-4-357-g005.jpg   \n",
       "3  PMC6134364__GE-4-357-g005.jpg  PMC6134364  GE-4-357-g005.jpg   \n",
       "4  PMC6134364__GE-4-357-g005.jpg  PMC6134364  GE-4-357-g005.jpg   \n",
       "\n",
       "  publication_year  pathway_score  pmc_ranked_result_index  \\\n",
       "0             1995       0.882552                   115615   \n",
       "1             1995       0.882552                   115615   \n",
       "2             1995       0.882552                   115615   \n",
       "3             1995       0.882552                   115615   \n",
       "4             1995       0.882552                   115615   \n",
       "\n",
       "                                 figlink  \\\n",
       "0  /pmc/articles/PMC6134364/figure/fig5/   \n",
       "1  /pmc/articles/PMC6134364/figure/fig5/   \n",
       "2  /pmc/articles/PMC6134364/figure/fig5/   \n",
       "3  /pmc/articles/PMC6134364/figure/fig5/   \n",
       "4  /pmc/articles/PMC6134364/figure/fig5/   \n",
       "\n",
       "                                       source_f type.man  automl_index  ...  \\\n",
       "0  ../data/images/PMC6134364__GE-4-357-g005.jpg     None         42272  ...   \n",
       "1  ../data/images/PMC6134364__GE-4-357-g005.jpg     None         42272  ...   \n",
       "2  ../data/images/PMC6134364__GE-4-357-g005.jpg     None         42272  ...   \n",
       "3  ../data/images/PMC6134364__GE-4-357-g005.jpg     None         42272  ...   \n",
       "4  ../data/images/PMC6134364__GE-4-357-g005.jpg     None         42272  ...   \n",
       "\n",
       "                                         figure_link  \\\n",
       "0  https://www.ncbi.nlm.nih.gov/pmc/articles/PMC6...   \n",
       "1  https://www.ncbi.nlm.nih.gov/pmc/articles/PMC6...   \n",
       "2  https://www.ncbi.nlm.nih.gov/pmc/articles/PMC6...   \n",
       "3  https://www.ncbi.nlm.nih.gov/pmc/articles/PMC6...   \n",
       "4  https://www.ncbi.nlm.nih.gov/pmc/articles/PMC6...   \n",
       "\n",
       "                             network_id  \\\n",
       "0  a6088798-df17-11ea-99da-0ac135e8bacf   \n",
       "1  a6088798-df17-11ea-99da-0ac135e8bacf   \n",
       "2  a6088798-df17-11ea-99da-0ac135e8bacf   \n",
       "3  a6088798-df17-11ea-99da-0ac135e8bacf   \n",
       "4  a6088798-df17-11ea-99da-0ac135e8bacf   \n",
       "\n",
       "                                             methods  \\\n",
       "0  Pathway Figure OCR, https://www.biorxiv.org/co...   \n",
       "1  Pathway Figure OCR, https://www.biorxiv.org/co...   \n",
       "2  Pathway Figure OCR, https://www.biorxiv.org/co...   \n",
       "3  Pathway Figure OCR, https://www.biorxiv.org/co...   \n",
       "4  Pathway Figure OCR, https://www.biorxiv.org/co...   \n",
       "\n",
       "                            rights networkType        word      symbol  \\\n",
       "0  Waiver-No rights reserved (CC0)     pathway      elF-2-        ELF2   \n",
       "1  Waiver-No rights reserved (CC0)     pathway  Interferon  Interferon   \n",
       "2  Waiver-No rights reserved (CC0)     pathway  Interferon  Interferon   \n",
       "3  Waiver-No rights reserved (CC0)     pathway  Interferon  Interferon   \n",
       "4  Waiver-No rights reserved (CC0)     pathway  Interferon  Interferon   \n",
       "\n",
       "               source hgnc_symbol entrez  \n",
       "0         hgnc_symbol        ELF2   1998  \n",
       "1  bioentities_symbol       IFNA1   3439  \n",
       "2  bioentities_symbol       IFNA2   3440  \n",
       "3  bioentities_symbol       IFNA4   3441  \n",
       "4  bioentities_symbol       IFNA5   3442  \n",
       "\n",
       "[5 rows x 27 columns]"
      ]
     },
     "execution_count": 22,
     "metadata": {},
     "output_type": "execute_result"
    }
   ],
   "source": [
    "# merge the dfs to get pfocr analysis set\n",
    "pfocr_df = (\n",
    "    (\n",
    "        pfocr_figures_df.join(\n",
    "            # dropping it because it already exists in pfocr_figures_df\n",
    "            pfocr_genes_df.drop(columns=[\"pmcid\"])\n",
    "            .rename(columns={\"figid\": \"pfocr_id\"})\n",
    "            .set_index(\"pfocr_id\"),\n",
    "            on=\"pfocr_id\",\n",
    "            how=\"inner\",\n",
    "        )\n",
    "    )\n",
    "    .sort_values([\"publication_year\", \"pmcid\", \"pfocr_id\", \"entrez\"])\n",
    "    .reset_index(drop=True)\n",
    ")\n",
    "\n",
    "pfocr_df.head()"
   ]
  },
  {
   "cell_type": "code",
   "execution_count": 23,
   "metadata": {},
   "outputs": [
    {
     "data": {
      "text/plain": [
       "['pfocr_id',\n",
       " 'pmcid',\n",
       " 'filename',\n",
       " 'publication_year',\n",
       " 'pathway_score',\n",
       " 'pmc_ranked_result_index',\n",
       " 'figlink',\n",
       " 'source_f',\n",
       " 'type.man',\n",
       " 'automl_index',\n",
       " 'reftext',\n",
       " 'paper_title',\n",
       " 'figure_title',\n",
       " 'figure_number',\n",
       " 'caption',\n",
       " 'organism',\n",
       " 'paper_link',\n",
       " 'figure_link',\n",
       " 'network_id',\n",
       " 'methods',\n",
       " 'rights',\n",
       " 'networkType',\n",
       " 'word',\n",
       " 'symbol',\n",
       " 'source',\n",
       " 'hgnc_symbol',\n",
       " 'entrez']"
      ]
     },
     "execution_count": 23,
     "metadata": {},
     "output_type": "execute_result"
    }
   ],
   "source": [
    "list(pfocr_df.columns)"
   ]
  },
  {
   "cell_type": "markdown",
   "metadata": {
    "tags": []
   },
   "source": [
    "### Compare sets: PFOCR networks already on NDEx vs. analysis set"
   ]
  },
  {
   "cell_type": "code",
   "execution_count": 24,
   "metadata": {},
   "outputs": [
    {
     "name": "stdout",
     "output_type": "stream",
     "text": [
      "32279\n",
      "32263\n",
      "32263\n",
      "0\n",
      "16\n"
     ]
    }
   ],
   "source": [
    "pfocr_on_ndex_df = pfocr_figures_df[pfocr_figures_df[\"network_id\"].notnull()]\n",
    "print(len(analysis_set_figure_ids))\n",
    "print(len(set(pfocr_on_ndex_df[\"pfocr_id\"])))\n",
    "print(len(set(pfocr_on_ndex_df[\"pfocr_id\"]).intersection(analysis_set_figure_ids)))\n",
    "print(len(set(pfocr_on_ndex_df[\"pfocr_id\"]) - analysis_set_figure_ids))\n",
    "print(len(analysis_set_figure_ids - set(pfocr_on_ndex_df[\"pfocr_id\"])))"
   ]
  },
  {
   "cell_type": "markdown",
   "metadata": {
    "tags": []
   },
   "source": [
    "### What predicateStrings are we using on NDEx?"
   ]
  },
  {
   "cell_type": "code",
   "execution_count": 25,
   "metadata": {},
   "outputs": [
    {
     "name": "stdout",
     "output_type": "stream",
     "text": [
      "{   'disease': 'string',\n",
      "    'figureLink': 'string',\n",
      "    'figureNumber': 'string',\n",
      "    'figureTitle': 'string',\n",
      "    'methods': 'string',\n",
      "    'networkType': 'string',\n",
      "    'organism': 'string',\n",
      "    'paperLink': 'string',\n",
      "    'paperTitle': 'string',\n",
      "    'pfocrId': 'string',\n",
      "    'pmcId': 'string',\n",
      "    'publicationYear': 'string',\n",
      "    'reference': 'string',\n",
      "    'rights': 'string'}\n"
     ]
    }
   ],
   "source": [
    "properties_by_predicate_string = dict()\n",
    "for i, row in (\n",
    "    pfocr_figures_df[pfocr_figures_df[\"network_id\"].notnull()].head(1000).iterrows()\n",
    "):\n",
    "    network_id = row[\"network_id\"]\n",
    "    pfocr_id = row[\"pfocr_id\"]\n",
    "\n",
    "    network_properties = my_ndex.get_network_summary(network_id)[\"properties\"]\n",
    "    for network_property in network_properties:\n",
    "        predicate_string = network_property[\"predicateString\"]\n",
    "        data_type = network_property[\"dataType\"]\n",
    "        sub_network_id = network_property[\"subNetworkId\"]\n",
    "        if not predicate_string in properties_by_predicate_string:\n",
    "            properties_by_predicate_string[predicate_string] = {\n",
    "                \"subNetworkId\": set(),\n",
    "                \"dataType\": set(),\n",
    "            }\n",
    "        properties_by_predicate_string[predicate_string][\"subNetworkId\"].add(\n",
    "            sub_network_id\n",
    "        )\n",
    "        properties_by_predicate_string[predicate_string][\"dataType\"].add(data_type)\n",
    "\n",
    "# pp.pprint(properties_by_predicate_string)\n",
    "\n",
    "network_properties_template = list()\n",
    "network_property_data_types_by_predicate_string = dict()\n",
    "for k, v in properties_by_predicate_string.items():\n",
    "    v[\"predicateString\"] = k\n",
    "    v[\"value\"] = \"\"\n",
    "\n",
    "    sub_network_ids = list(v[\"subNetworkId\"])\n",
    "    if len(sub_network_ids) > 1:\n",
    "        raise Exception(f\"{k} has more than one subNetworkId\")\n",
    "    else:\n",
    "        v[\"subNetworkId\"] = sub_network_ids[0]\n",
    "\n",
    "    data_types = list(v[\"dataType\"])\n",
    "    if len(data_types) > 1:\n",
    "        raise Exception(f\"{k} has more than one dataType\")\n",
    "    else:\n",
    "        v[\"dataType\"] = data_types[0]\n",
    "\n",
    "    network_property_data_types_by_predicate_string[k] = data_types[0]\n",
    "\n",
    "    network_properties_template.append(v)\n",
    "pp.pprint(network_property_data_types_by_predicate_string)"
   ]
  },
  {
   "cell_type": "markdown",
   "metadata": {
    "tags": []
   },
   "source": [
    "### Remove networks from NDEx if they are not in the analysis set"
   ]
  },
  {
   "cell_type": "code",
   "execution_count": 26,
   "metadata": {},
   "outputs": [],
   "source": [
    "def remove_network_id(network_id):\n",
    "    pfocr_figures_df.loc[\n",
    "        (\n",
    "            pfocr_figures_df[\"network_id\"] == network_id,\n",
    "            \"network_id\",\n",
    "        )\n",
    "    ] = None\n",
    "\n",
    "    del pfocr_id_to_network_id[pfocr_id]\n",
    "    with open(cached_pfocr_id_to_network_id_filepath, \"w\") as f:\n",
    "        json.dump(pfocr_id_to_network_id, f)\n",
    "\n",
    "    pfocr_on_ndex_df = pfocr_figures_df[pfocr_figures_df[\"network_id\"].notnull()]\n",
    "\n",
    "    pfocr_df.loc[\n",
    "        (\n",
    "            pfocr_df[\"network_id\"] == network_id,\n",
    "            \"network_id\",\n",
    "        )\n",
    "    ] = None\n",
    "\n",
    "\n",
    "for pfocr_id in (\n",
    "    set(pfocr_figures_df[pfocr_figures_df[\"network_id\"].notnull()][\"pfocr_id\"])\n",
    "    - analysis_set_figure_ids\n",
    "):\n",
    "    network_id = pfocr_id_to_network_id[pfocr_id]\n",
    "\n",
    "    my_ndex.set_read_only(network_id, False)\n",
    "    my_ndex.delete_network(network_id)\n",
    "\n",
    "    remove_network_id(network_id)"
   ]
  },
  {
   "cell_type": "markdown",
   "metadata": {
    "tags": []
   },
   "source": [
    "### Update properties of remaining networks to match `pfocr_df`\n",
    "\n",
    "Still need to add networks from analysis set if they are not on NDEx."
   ]
  },
  {
   "cell_type": "code",
   "execution_count": 30,
   "metadata": {
    "tags": []
   },
   "outputs": [],
   "source": [
    "import copy\n",
    "import time\n",
    "import math\n",
    "\n",
    "data_type_by_predicate_string = {\n",
    "    \"disease\": \"string\",\n",
    "    \"figureLink\": \"string\",\n",
    "    \"figureNumber\": \"string\",\n",
    "    \"figureTitle\": \"string\",\n",
    "    \"methods\": \"string\",\n",
    "    \"networkType\": \"string\",\n",
    "    \"organism\": \"string\",\n",
    "    \"paperLink\": \"string\",\n",
    "    \"paperTitle\": \"string\",\n",
    "    \"pfocrId\": \"string\",\n",
    "    \"pmcId\": \"string\",\n",
    "    \"publicationYear\": \"string\",\n",
    "    \"reference\": \"string\",\n",
    "    \"rights\": \"string\",\n",
    "}\n",
    "column_name_by_predicate_string = {\n",
    "    # \"disease\": \"disease\",\n",
    "    \"figureLink\": \"figure_link\",\n",
    "    \"figureNumber\": \"figure_number\",\n",
    "    \"figureTitle\": \"figure_title\",\n",
    "    \"methods\": \"methods\",\n",
    "    # \"networkType\": \"network_type\",\n",
    "    \"organism\": \"organism\",\n",
    "    \"paperLink\": \"paper_link\",\n",
    "    \"paperTitle\": \"paper_title\",\n",
    "    \"pfocrId\": \"pfocr_id\",\n",
    "    \"pmcId\": \"pmcid\",\n",
    "    \"publicationYear\": \"publication_year\",\n",
    "    # TODO: reference is combo of columns\n",
    "    # \"reference\": \"reference\",\n",
    "    # \"rights\": \"rights\"\n",
    "}\n",
    "\n",
    "column_names = column_name_by_predicate_string.values()\n",
    "\n",
    "with open(\"./update_pfocr.log\", \"w\") as f:\n",
    "    f.write(\"\")\n",
    "\n",
    "\n",
    "def update_networks(\n",
    "    my_ndex,\n",
    "    pfocr_figures_df,\n",
    "    consecutive_fails_limit=1000,\n",
    "    no_progress_iterations_limit=3,\n",
    "    completed=set(),\n",
    "    consecutive_fails=0,\n",
    "    no_progress_iterations=0,\n",
    "):\n",
    "    msg = f\"attempt {no_progress_iterations + 1} of {no_progress_iterations_limit + 1}\"\n",
    "    print(msg)\n",
    "    with open(\"./update_pfocr.log\", \"a\") as f:\n",
    "        f.write(msg + \"\\n\")\n",
    "    initial_completed_count = len(completed)\n",
    "    remaining_pfocr_figures_df = pfocr_figures_df[\n",
    "        pfocr_figures_df[\"network_id\"].notnull()\n",
    "        & (~pfocr_figures_df[\"network_id\"].isin(completed))\n",
    "    ]\n",
    "    for i, row in pfocr_figures_df[pfocr_figures_df[\"network_id\"].notnull()].iterrows():\n",
    "        network_id = row[\"network_id\"]\n",
    "        pfocr_id = row[\"pfocr_id\"]\n",
    "        organism = row[\"organism\"]\n",
    "        if row[\"organism\"] in set({\"XXX\", \"REJECT\"}):\n",
    "            raise Exception(\n",
    "                f\"organism for network {network_id} / {pfocr_id} is {organism}\"\n",
    "            )\n",
    "\n",
    "        # Remove items where organism is only a non-human organism?\n",
    "        # e.g., PMC186276__46891-2f3_L1TT.jpg\n",
    "        # OK:\n",
    "        #   'XXX' or 'REJECT'\n",
    "        #   contains 'Homo sapiens'\n",
    "\n",
    "        try:\n",
    "            network_properties = my_ndex.get_network_summary(network_id)[\"properties\"]\n",
    "            old_network_properties = copy.deepcopy(network_properties)\n",
    "        except Exception as e:\n",
    "            print(f\"Can't get network_id {network_id}\")\n",
    "\n",
    "            consecutive_fails += 1\n",
    "            if consecutive_fails >= consecutive_fails_limit:\n",
    "                raise Exception(f\"Failed for too many. Stopping.\")\n",
    "            else:\n",
    "                print(f\"Skipping {network_id} and moving to next.\")\n",
    "                continue\n",
    "\n",
    "        network_property_by_predicate_string = dict()\n",
    "        for network_property in network_properties:\n",
    "            predicate_string = network_property[\"predicateString\"]\n",
    "\n",
    "            # in case it's still using snake_case, let's go to lowerCamelCase\n",
    "            if predicate_string in column_name_by_predicate_string:\n",
    "                predicate_string = column_name_by_predicate_string[predicate_string]\n",
    "            network_property[\"predicateString\"] = predicate_string\n",
    "\n",
    "            if predicate_string == \"reference\":\n",
    "                paper_title = row[\"paper_title\"]\n",
    "                paper_link = row[\"paper_link\"]\n",
    "                reftext = row[\"reftext\"]\n",
    "                network_property[\n",
    "                    \"value\"\n",
    "                ] = f'{reftext} <b>{paper_title}</b> <a href=\"{paper_link}\" target=\"_blank\">{paper_link}</a>'\n",
    "\n",
    "            network_property_by_predicate_string[predicate_string] = network_property\n",
    "\n",
    "        updated_network_properties = list()\n",
    "        for predicate_string, data_type in data_type_by_predicate_string.items():\n",
    "            if predicate_string in column_name_by_predicate_string:\n",
    "                column_name = column_name_by_predicate_string[predicate_string]\n",
    "            else:\n",
    "                column_name = None\n",
    "\n",
    "            if (\n",
    "                (not column_name is None)\n",
    "                and column_name in column_names\n",
    "                and (not row[column_name] is None)\n",
    "            ):\n",
    "                updated_network_property = {\n",
    "                    \"predicateString\": predicate_string,\n",
    "                    \"value\": row[column_name],\n",
    "                    \"dataType\": data_type,\n",
    "                    \"subNetworkId\": None,\n",
    "                }\n",
    "            elif predicate_string in network_property_by_predicate_string:\n",
    "                updated_network_property = network_property_by_predicate_string[\n",
    "                    predicate_string\n",
    "                ]\n",
    "            else:\n",
    "                continue\n",
    "\n",
    "            if updated_network_property:\n",
    "                updated_network_properties.append(updated_network_property)\n",
    "\n",
    "        new_predicate_strings = set()\n",
    "        for network_property in updated_network_properties:\n",
    "            new_predicate_string = network_property[\"predicateString\"]\n",
    "            if new_predicate_string in new_predicate_strings:\n",
    "                raise Exception(\n",
    "                    f\"my predicateString {new_predicate_string} already specified for {network_id}\"\n",
    "                )\n",
    "            new_predicate_strings.add(new_predicate_string)\n",
    "\n",
    "        try:\n",
    "            my_ndex.set_read_only(network_id, False)\n",
    "            my_ndex.update_network_profile(\n",
    "                network_id,\n",
    "                {\"name\": row[\"figure_title\"], \"description\": row[\"caption\"]},\n",
    "            )\n",
    "            my_ndex.set_network_properties(network_id, updated_network_properties)\n",
    "            my_ndex.set_read_only(network_id, True)\n",
    "\n",
    "            no_progress_iterations = 0\n",
    "            consecutive_fails = 0\n",
    "            completed.add(network_id)\n",
    "            with open(\"./update_pfocr.log\", \"a\") as f:\n",
    "                f.write(network_id + \"\\n\")\n",
    "        except Exception as e:\n",
    "            print(f\"Failed for network_id {network_id}\")\n",
    "\n",
    "            consecutive_fails += 1\n",
    "            if consecutive_fails >= consecutive_fails_limit:\n",
    "                raise Exception(f\"Failed for too many. Stopping.\")\n",
    "            else:\n",
    "                print(f\"Skipping {network_id} and moving to next.\")\n",
    "                continue\n",
    "\n",
    "    if len(set(remaining_pfocr_figures_df[\"network_id\"]) - completed) == 0:\n",
    "        return 0\n",
    "    elif no_progress_iterations >= no_progress_iterations_limit:\n",
    "        return 1\n",
    "    else:\n",
    "        if len(completed) == initial_completed_count:\n",
    "            # If we didn't make any progress, wait before trying again.\n",
    "            # Use exponential back off:\n",
    "            # 7^0 x 5 = 5 min\n",
    "            # 7^1 x 5 = 35 min\n",
    "            # 7^2 x 5 = ~4 hrs\n",
    "            # 7^3 x 5 = ~29 hrs\n",
    "\n",
    "            backoff_base = 7\n",
    "            backoff_factor = 5  # minutes\n",
    "            wait_sec = (\n",
    "                math.pow(backoff_base, no_progress_iterations) * backoff_factor * 60\n",
    "            )\n",
    "            print(f\"waiting for {int(wait_sec / 60)} min before trying again\")\n",
    "            time.sleep(wait_sec)\n",
    "\n",
    "            # we want to try a limited number of times without making progress\n",
    "            no_progress_iterations += 1\n",
    "\n",
    "        total_network_count = len(\n",
    "            pfocr_figures_df[pfocr_figures_df[\"network_id\"].notnull()]\n",
    "        )\n",
    "        print(\n",
    "            f\"completed {len(completed) - initial_completed_count} this round for a total of {len(completed)} out of {total_network_count}\"\n",
    "        )\n",
    "\n",
    "        return update_networks(\n",
    "            my_ndex,\n",
    "            pfocr_figures_df,\n",
    "            consecutive_fails_limit,\n",
    "            no_progress_iterations_limit,\n",
    "            completed,\n",
    "            consecutive_fails,\n",
    "            no_progress_iterations,\n",
    "        )"
   ]
  },
  {
   "cell_type": "markdown",
   "metadata": {},
   "source": [
    "Run it:"
   ]
  },
  {
   "cell_type": "code",
   "execution_count": null,
   "metadata": {},
   "outputs": [
    {
     "name": "stdout",
     "output_type": "stream",
     "text": [
      "attempt 1 of 4\n"
     ]
    }
   ],
   "source": [
    "update_networks(my_ndex, pfocr_figures_df)"
   ]
  },
  {
   "cell_type": "code",
   "execution_count": null,
   "metadata": {},
   "outputs": [],
   "source": []
  },
  {
   "cell_type": "code",
   "execution_count": null,
   "metadata": {},
   "outputs": [],
   "source": []
  },
  {
   "cell_type": "code",
   "execution_count": null,
   "metadata": {},
   "outputs": [],
   "source": []
  },
  {
   "cell_type": "code",
   "execution_count": null,
   "metadata": {},
   "outputs": [],
   "source": []
  },
  {
   "cell_type": "code",
   "execution_count": null,
   "metadata": {},
   "outputs": [],
   "source": []
  },
  {
   "cell_type": "code",
   "execution_count": null,
   "metadata": {},
   "outputs": [],
   "source": []
  },
  {
   "cell_type": "code",
   "execution_count": null,
   "metadata": {},
   "outputs": [],
   "source": []
  },
  {
   "cell_type": "code",
   "execution_count": null,
   "metadata": {},
   "outputs": [],
   "source": []
  },
  {
   "cell_type": "code",
   "execution_count": 19,
   "metadata": {},
   "outputs": [],
   "source": []
  },
  {
   "cell_type": "code",
   "execution_count": null,
   "metadata": {},
   "outputs": [],
   "source": []
  },
  {
   "cell_type": "code",
   "execution_count": null,
   "metadata": {},
   "outputs": [],
   "source": []
  },
  {
   "cell_type": "code",
   "execution_count": null,
   "metadata": {},
   "outputs": [],
   "source": []
  },
  {
   "cell_type": "code",
   "execution_count": null,
   "metadata": {},
   "outputs": [],
   "source": []
  },
  {
   "cell_type": "code",
   "execution_count": null,
   "metadata": {},
   "outputs": [],
   "source": []
  },
  {
   "cell_type": "code",
   "execution_count": null,
   "metadata": {},
   "outputs": [],
   "source": []
  },
  {
   "cell_type": "code",
   "execution_count": null,
   "metadata": {},
   "outputs": [],
   "source": []
  },
  {
   "cell_type": "code",
   "execution_count": null,
   "metadata": {},
   "outputs": [],
   "source": []
  },
  {
   "cell_type": "code",
   "execution_count": null,
   "metadata": {},
   "outputs": [],
   "source": []
  },
  {
   "cell_type": "markdown",
   "metadata": {},
   "source": [
    "## Pathway Disease Associations\n",
    "\n",
    "Alex did a gene enrichment analysis on the PFOCR data to get pathway-disease associations. He provided the data [here](https://github.com/wikipathways/pathway-figure-ocr/issues/16#issuecomment-611684935)."
   ]
  },
  {
   "cell_type": "code",
   "execution_count": 26,
   "metadata": {},
   "outputs": [],
   "source": [
    "pathway_disease_url = (\n",
    "    \"https://www.dropbox.com/s/vgazcxdq4wsl5yk/pfocr_disease_map.tsv?dl=0\"\n",
    ")"
   ]
  },
  {
   "cell_type": "code",
   "execution_count": 27,
   "metadata": {},
   "outputs": [
    {
     "name": "stdout",
     "output_type": "stream",
     "text": [
      "../data/pfocr_disease_map.tsv exists. Assuming already cached.\n"
     ]
    }
   ],
   "source": [
    "pfocr_disease_map_f = \"../data/pfocr_disease_map.tsv\"\n",
    "cache_from_dropbox(url=pathway_disease_url, dest=pfocr_disease_map_f)"
   ]
  },
  {
   "cell_type": "code",
   "execution_count": 28,
   "metadata": {},
   "outputs": [
    {
     "data": {
      "text/html": [
       "<div>\n",
       "<style scoped>\n",
       "    .dataframe tbody tr th:only-of-type {\n",
       "        vertical-align: middle;\n",
       "    }\n",
       "\n",
       "    .dataframe tbody tr th {\n",
       "        vertical-align: top;\n",
       "    }\n",
       "\n",
       "    .dataframe thead th {\n",
       "        text-align: right;\n",
       "    }\n",
       "</style>\n",
       "<table border=\"1\" class=\"dataframe\">\n",
       "  <thead>\n",
       "    <tr style=\"text-align: right;\">\n",
       "      <th></th>\n",
       "      <th>pfocr_id</th>\n",
       "      <th>terms</th>\n",
       "      <th>doid</th>\n",
       "    </tr>\n",
       "  </thead>\n",
       "  <tbody>\n",
       "    <tr>\n",
       "      <th>0</th>\n",
       "      <td>PMC100008__mb2411709009.jpg</td>\n",
       "      <td>Cancer</td>\n",
       "      <td>DOID:162</td>\n",
       "    </tr>\n",
       "    <tr>\n",
       "      <th>1</th>\n",
       "      <td>PMC100008__mb2411709009.jpg</td>\n",
       "      <td>Primary hyperaldosteronism</td>\n",
       "      <td>DOID:12252</td>\n",
       "    </tr>\n",
       "    <tr>\n",
       "      <th>2</th>\n",
       "      <td>PMC100008__mb2411709009.jpg</td>\n",
       "      <td>Lung cancer</td>\n",
       "      <td>DOID:1324</td>\n",
       "    </tr>\n",
       "    <tr>\n",
       "      <th>3</th>\n",
       "      <td>PMC100008__mb2411709009.jpg</td>\n",
       "      <td>Noonan syndrome</td>\n",
       "      <td>DOID:3490</td>\n",
       "    </tr>\n",
       "    <tr>\n",
       "      <th>4</th>\n",
       "      <td>PMC101242__gkf20707.jpg</td>\n",
       "      <td>Breast cancer</td>\n",
       "      <td>DOID:1612</td>\n",
       "    </tr>\n",
       "    <tr>\n",
       "      <th>...</th>\n",
       "      <td>...</td>\n",
       "      <td>...</td>\n",
       "      <td>...</td>\n",
       "    </tr>\n",
       "    <tr>\n",
       "      <th>72877</th>\n",
       "      <td>PMC99889__mb2110211013.jpg</td>\n",
       "      <td>Cancer</td>\n",
       "      <td>DOID:162</td>\n",
       "    </tr>\n",
       "    <tr>\n",
       "      <th>72878</th>\n",
       "      <td>PMC99889__mb2110211013.jpg</td>\n",
       "      <td>Cardiomyopathy</td>\n",
       "      <td>DOID:0050700</td>\n",
       "    </tr>\n",
       "    <tr>\n",
       "      <th>72879</th>\n",
       "      <td>PMC99889__mb2110211013.jpg</td>\n",
       "      <td>Lung cancer</td>\n",
       "      <td>DOID:1324</td>\n",
       "    </tr>\n",
       "    <tr>\n",
       "      <th>72880</th>\n",
       "      <td>PMC99889__mb2110211013.jpg</td>\n",
       "      <td>Noonan syndrome</td>\n",
       "      <td>DOID:3490</td>\n",
       "    </tr>\n",
       "    <tr>\n",
       "      <th>72881</th>\n",
       "      <td>PMC99957__mb2310813001.jpg</td>\n",
       "      <td>Autoimmune lymphoproliferative syndrome</td>\n",
       "      <td>DOID:6688</td>\n",
       "    </tr>\n",
       "  </tbody>\n",
       "</table>\n",
       "<p>72882 rows × 3 columns</p>\n",
       "</div>"
      ],
      "text/plain": [
       "                          pfocr_id                                    terms  \\\n",
       "0      PMC100008__mb2411709009.jpg                                   Cancer   \n",
       "1      PMC100008__mb2411709009.jpg               Primary hyperaldosteronism   \n",
       "2      PMC100008__mb2411709009.jpg                              Lung cancer   \n",
       "3      PMC100008__mb2411709009.jpg                          Noonan syndrome   \n",
       "4          PMC101242__gkf20707.jpg                            Breast cancer   \n",
       "...                            ...                                      ...   \n",
       "72877   PMC99889__mb2110211013.jpg                                   Cancer   \n",
       "72878   PMC99889__mb2110211013.jpg                           Cardiomyopathy   \n",
       "72879   PMC99889__mb2110211013.jpg                              Lung cancer   \n",
       "72880   PMC99889__mb2110211013.jpg                          Noonan syndrome   \n",
       "72881   PMC99957__mb2310813001.jpg  Autoimmune lymphoproliferative syndrome   \n",
       "\n",
       "               doid  \n",
       "0          DOID:162  \n",
       "1        DOID:12252  \n",
       "2         DOID:1324  \n",
       "3         DOID:3490  \n",
       "4         DOID:1612  \n",
       "...             ...  \n",
       "72877      DOID:162  \n",
       "72878  DOID:0050700  \n",
       "72879     DOID:1324  \n",
       "72880     DOID:3490  \n",
       "72881     DOID:6688  \n",
       "\n",
       "[72882 rows x 3 columns]"
      ]
     },
     "execution_count": 28,
     "metadata": {},
     "output_type": "execute_result"
    }
   ],
   "source": [
    "pfocr_disease_df = pd.read_csv(pfocr_disease_map_f, sep=\"\\t\").rename(columns={\"figid\": \"pfocr_id\"})\n",
    "pfocr_disease_df"
   ]
  },
  {
   "cell_type": "code",
   "execution_count": 29,
   "metadata": {},
   "outputs": [
    {
     "data": {
      "text/plain": [
       "23331"
      ]
     },
     "execution_count": 29,
     "metadata": {},
     "output_type": "execute_result"
    }
   ],
   "source": [
    "disease_pfocr_ids = set(pfocr_disease_df[\"pfocr_id\"])\n",
    "len(disease_pfocr_ids)"
   ]
  },
  {
   "cell_type": "code",
   "execution_count": 38,
   "metadata": {},
   "outputs": [
    {
     "data": {
      "text/html": [
       "<div>\n",
       "<style scoped>\n",
       "    .dataframe tbody tr th:only-of-type {\n",
       "        vertical-align: middle;\n",
       "    }\n",
       "\n",
       "    .dataframe tbody tr th {\n",
       "        vertical-align: top;\n",
       "    }\n",
       "\n",
       "    .dataframe thead th {\n",
       "        text-align: right;\n",
       "    }\n",
       "</style>\n",
       "<table border=\"1\" class=\"dataframe\">\n",
       "  <thead>\n",
       "    <tr style=\"text-align: right;\">\n",
       "      <th></th>\n",
       "      <th>pfocr_id</th>\n",
       "      <th>terms</th>\n",
       "      <th>doid</th>\n",
       "      <th>network_id</th>\n",
       "    </tr>\n",
       "  </thead>\n",
       "  <tbody>\n",
       "    <tr>\n",
       "      <th>12</th>\n",
       "      <td>PMC1052007__JCI0524159.f1.jpg</td>\n",
       "      <td>Primary hyperaldosteronism</td>\n",
       "      <td>DOID:12252</td>\n",
       "      <td>b1499264-ddd6-11ea-9101-0660b7976219</td>\n",
       "    </tr>\n",
       "    <tr>\n",
       "      <th>13</th>\n",
       "      <td>PMC1052008__JCI0524178.f3.jpg</td>\n",
       "      <td>Alzheimer's disease</td>\n",
       "      <td>DOID:10652</td>\n",
       "      <td>bd676e7b-de55-11ea-9101-0660b7976219</td>\n",
       "    </tr>\n",
       "    <tr>\n",
       "      <th>14</th>\n",
       "      <td>PMC1052008__JCI0524178.f3.jpg</td>\n",
       "      <td>Primary hyperaldosteronism</td>\n",
       "      <td>DOID:12252</td>\n",
       "      <td>bd676e7b-de55-11ea-9101-0660b7976219</td>\n",
       "    </tr>\n",
       "    <tr>\n",
       "      <th>15</th>\n",
       "      <td>PMC1052008__JCI0524178.f3.jpg</td>\n",
       "      <td>Ovarian cancer</td>\n",
       "      <td>DOID:2394</td>\n",
       "      <td>bd676e7b-de55-11ea-9101-0660b7976219</td>\n",
       "    </tr>\n",
       "    <tr>\n",
       "      <th>16</th>\n",
       "      <td>PMC1069556__zjv0080560770006.jpg</td>\n",
       "      <td>Cancer</td>\n",
       "      <td>DOID:162</td>\n",
       "      <td>536cbd18-ddd1-11ea-9101-0660b7976219</td>\n",
       "    </tr>\n",
       "    <tr>\n",
       "      <th>...</th>\n",
       "      <td>...</td>\n",
       "      <td>...</td>\n",
       "      <td>...</td>\n",
       "      <td>...</td>\n",
       "    </tr>\n",
       "    <tr>\n",
       "      <th>72846</th>\n",
       "      <td>PMC86511__mb2301061009.jpg</td>\n",
       "      <td>Aortic aneurysm</td>\n",
       "      <td>DOID:3627</td>\n",
       "      <td>48162d84-de59-11ea-9101-0660b7976219</td>\n",
       "    </tr>\n",
       "    <tr>\n",
       "      <th>72847</th>\n",
       "      <td>PMC86511__mb2301061009.jpg</td>\n",
       "      <td>Coloboma</td>\n",
       "      <td>DOID:12270</td>\n",
       "      <td>48162d84-de59-11ea-9101-0660b7976219</td>\n",
       "    </tr>\n",
       "    <tr>\n",
       "      <th>72848</th>\n",
       "      <td>PMC86511__mb2301061009.jpg</td>\n",
       "      <td>Microphthalmia</td>\n",
       "      <td>DOID:10629</td>\n",
       "      <td>48162d84-de59-11ea-9101-0660b7976219</td>\n",
       "    </tr>\n",
       "    <tr>\n",
       "      <th>72849</th>\n",
       "      <td>PMC86592__mb0211421009.jpg</td>\n",
       "      <td>Rheumatoid arthritis</td>\n",
       "      <td>DOID:7148</td>\n",
       "      <td>4a5e0e91-ddd2-11ea-9101-0660b7976219</td>\n",
       "    </tr>\n",
       "    <tr>\n",
       "      <th>72857</th>\n",
       "      <td>PMC88785__mb0111351001.jpg</td>\n",
       "      <td>Autoimmune lymphoproliferative syndrome</td>\n",
       "      <td>DOID:6688</td>\n",
       "      <td>d7076825-ddd9-11ea-9101-0660b7976219</td>\n",
       "    </tr>\n",
       "  </tbody>\n",
       "</table>\n",
       "<p>26060 rows × 4 columns</p>\n",
       "</div>"
      ],
      "text/plain": [
       "                               pfocr_id  \\\n",
       "12        PMC1052007__JCI0524159.f1.jpg   \n",
       "13        PMC1052008__JCI0524178.f3.jpg   \n",
       "14        PMC1052008__JCI0524178.f3.jpg   \n",
       "15        PMC1052008__JCI0524178.f3.jpg   \n",
       "16     PMC1069556__zjv0080560770006.jpg   \n",
       "...                                 ...   \n",
       "72846        PMC86511__mb2301061009.jpg   \n",
       "72847        PMC86511__mb2301061009.jpg   \n",
       "72848        PMC86511__mb2301061009.jpg   \n",
       "72849        PMC86592__mb0211421009.jpg   \n",
       "72857        PMC88785__mb0111351001.jpg   \n",
       "\n",
       "                                         terms        doid  \\\n",
       "12                  Primary hyperaldosteronism  DOID:12252   \n",
       "13                         Alzheimer's disease  DOID:10652   \n",
       "14                  Primary hyperaldosteronism  DOID:12252   \n",
       "15                              Ovarian cancer   DOID:2394   \n",
       "16                                      Cancer    DOID:162   \n",
       "...                                        ...         ...   \n",
       "72846                          Aortic aneurysm   DOID:3627   \n",
       "72847                                 Coloboma  DOID:12270   \n",
       "72848                           Microphthalmia  DOID:10629   \n",
       "72849                     Rheumatoid arthritis   DOID:7148   \n",
       "72857  Autoimmune lymphoproliferative syndrome   DOID:6688   \n",
       "\n",
       "                                 network_id  \n",
       "12     b1499264-ddd6-11ea-9101-0660b7976219  \n",
       "13     bd676e7b-de55-11ea-9101-0660b7976219  \n",
       "14     bd676e7b-de55-11ea-9101-0660b7976219  \n",
       "15     bd676e7b-de55-11ea-9101-0660b7976219  \n",
       "16     536cbd18-ddd1-11ea-9101-0660b7976219  \n",
       "...                                     ...  \n",
       "72846  48162d84-de59-11ea-9101-0660b7976219  \n",
       "72847  48162d84-de59-11ea-9101-0660b7976219  \n",
       "72848  48162d84-de59-11ea-9101-0660b7976219  \n",
       "72849  4a5e0e91-ddd2-11ea-9101-0660b7976219  \n",
       "72857  d7076825-ddd9-11ea-9101-0660b7976219  \n",
       "\n",
       "[26060 rows x 4 columns]"
      ]
     },
     "execution_count": 38,
     "metadata": {},
     "output_type": "execute_result"
    }
   ],
   "source": [
    "pfocr_disease_df[\"network_id\"] = pfocr_disease_df[\"pfocr_id\"].apply(\n",
    "    lambda pfocr_id: pfocr_id_to_network_id.get(pfocr_id, None)\n",
    ")\n",
    "pfocr_disease_df[pfocr_disease_df[\"network_id\"].notnull()]"
   ]
  },
  {
   "cell_type": "code",
   "execution_count": 39,
   "metadata": {},
   "outputs": [
    {
     "ename": "KeyboardInterrupt",
     "evalue": "",
     "output_type": "error",
     "traceback": [
      "\u001b[0;31m---------------------------------------------------------------------------\u001b[0m",
      "\u001b[0;31mKeyboardInterrupt\u001b[0m                         Traceback (most recent call last)",
      "\u001b[0;32m<ipython-input-39-ba6f07eb1fc7>\u001b[0m in \u001b[0;36m<module>\u001b[0;34m\u001b[0m\n\u001b[1;32m      9\u001b[0m     \u001b[0;31m# my_ndex.set_network_system_properties(network_id, {\"readOnly\": False})\u001b[0m\u001b[0;34m\u001b[0m\u001b[0;34m\u001b[0m\u001b[0;34m\u001b[0m\u001b[0m\n\u001b[1;32m     10\u001b[0m \u001b[0;34m\u001b[0m\u001b[0m\n\u001b[0;32m---> 11\u001b[0;31m     \u001b[0mnetwork_properties\u001b[0m \u001b[0;34m=\u001b[0m \u001b[0mmy_ndex\u001b[0m\u001b[0;34m.\u001b[0m\u001b[0mget_network_summary\u001b[0m\u001b[0;34m(\u001b[0m\u001b[0mnetwork_id\u001b[0m\u001b[0;34m)\u001b[0m\u001b[0;34m[\u001b[0m\u001b[0;34m\"properties\"\u001b[0m\u001b[0;34m]\u001b[0m\u001b[0;34m\u001b[0m\u001b[0;34m\u001b[0m\u001b[0m\n\u001b[0m\u001b[1;32m     12\u001b[0m \u001b[0;34m\u001b[0m\u001b[0m\n\u001b[1;32m     13\u001b[0m     \u001b[0;31m# Here's a sample of a disease property value from a WikiPathways network:\u001b[0m\u001b[0;34m\u001b[0m\u001b[0;34m\u001b[0m\u001b[0;34m\u001b[0m\u001b[0m\n",
      "\u001b[0;32m/nix/store/1p75vcb4phw4x10rk6jzm00b3jcccz40-python3-3.8.7-env/lib/python3.8/site-packages/ndex2/client.py\u001b[0m in \u001b[0;36mget_network_summary\u001b[0;34m(self, network_id)\u001b[0m\n\u001b[1;32m    651\u001b[0m             \u001b[0mroute\u001b[0m \u001b[0;34m=\u001b[0m \u001b[0;34m\"/network/%s/summary\"\u001b[0m \u001b[0;34m%\u001b[0m \u001b[0mnetwork_id\u001b[0m\u001b[0;34m\u001b[0m\u001b[0;34m\u001b[0m\u001b[0m\n\u001b[1;32m    652\u001b[0m \u001b[0;34m\u001b[0m\u001b[0m\n\u001b[0;32m--> 653\u001b[0;31m         \u001b[0;32mreturn\u001b[0m \u001b[0mself\u001b[0m\u001b[0;34m.\u001b[0m\u001b[0mget\u001b[0m\u001b[0;34m(\u001b[0m\u001b[0mroute\u001b[0m\u001b[0;34m)\u001b[0m\u001b[0;34m\u001b[0m\u001b[0;34m\u001b[0m\u001b[0m\n\u001b[0m\u001b[1;32m    654\u001b[0m \u001b[0;34m\u001b[0m\u001b[0m\n\u001b[1;32m    655\u001b[0m     \u001b[0;32mdef\u001b[0m \u001b[0mmake_network_public\u001b[0m\u001b[0;34m(\u001b[0m\u001b[0mself\u001b[0m\u001b[0;34m,\u001b[0m \u001b[0mnetwork_id\u001b[0m\u001b[0;34m)\u001b[0m\u001b[0;34m:\u001b[0m\u001b[0;34m\u001b[0m\u001b[0;34m\u001b[0m\u001b[0m\n",
      "\u001b[0;32m/nix/store/1p75vcb4phw4x10rk6jzm00b3jcccz40-python3-3.8.7-env/lib/python3.8/site-packages/ndex2/client.py\u001b[0m in \u001b[0;36mget\u001b[0;34m(self, route, get_params)\u001b[0m\n\u001b[1;32m    268\u001b[0m         \u001b[0mheaders\u001b[0m\u001b[0;34m[\u001b[0m\u001b[0mNdex2\u001b[0m\u001b[0;34m.\u001b[0m\u001b[0mUSER_AGENT_KEY\u001b[0m\u001b[0;34m]\u001b[0m \u001b[0;34m=\u001b[0m \u001b[0mself\u001b[0m\u001b[0;34m.\u001b[0m\u001b[0m_get_user_agent\u001b[0m\u001b[0;34m(\u001b[0m\u001b[0;34m)\u001b[0m\u001b[0;34m\u001b[0m\u001b[0;34m\u001b[0m\u001b[0m\n\u001b[1;32m    269\u001b[0m         \u001b[0mheaders\u001b[0m\u001b[0;34m[\u001b[0m\u001b[0;34m'Connection'\u001b[0m\u001b[0;34m]\u001b[0m \u001b[0;34m=\u001b[0m \u001b[0;34m'close'\u001b[0m\u001b[0;34m\u001b[0m\u001b[0;34m\u001b[0m\u001b[0m\n\u001b[0;32m--> 270\u001b[0;31m         response = self.s.get(url, params=get_params, headers=headers,\n\u001b[0m\u001b[1;32m    271\u001b[0m                               timeout=self.timeout)\n\u001b[1;32m    272\u001b[0m         \u001b[0;32mreturn\u001b[0m \u001b[0mself\u001b[0m\u001b[0;34m.\u001b[0m\u001b[0m_return_response\u001b[0m\u001b[0;34m(\u001b[0m\u001b[0mresponse\u001b[0m\u001b[0;34m)\u001b[0m\u001b[0;34m\u001b[0m\u001b[0;34m\u001b[0m\u001b[0m\n",
      "\u001b[0;32m/nix/store/1p75vcb4phw4x10rk6jzm00b3jcccz40-python3-3.8.7-env/lib/python3.8/site-packages/requests/sessions.py\u001b[0m in \u001b[0;36mget\u001b[0;34m(self, url, **kwargs)\u001b[0m\n\u001b[1;32m    533\u001b[0m \u001b[0;34m\u001b[0m\u001b[0m\n\u001b[1;32m    534\u001b[0m         \u001b[0mkwargs\u001b[0m\u001b[0;34m.\u001b[0m\u001b[0msetdefault\u001b[0m\u001b[0;34m(\u001b[0m\u001b[0;34m'allow_redirects'\u001b[0m\u001b[0;34m,\u001b[0m \u001b[0;32mTrue\u001b[0m\u001b[0;34m)\u001b[0m\u001b[0;34m\u001b[0m\u001b[0;34m\u001b[0m\u001b[0m\n\u001b[0;32m--> 535\u001b[0;31m         \u001b[0;32mreturn\u001b[0m \u001b[0mself\u001b[0m\u001b[0;34m.\u001b[0m\u001b[0mrequest\u001b[0m\u001b[0;34m(\u001b[0m\u001b[0;34m'GET'\u001b[0m\u001b[0;34m,\u001b[0m \u001b[0murl\u001b[0m\u001b[0;34m,\u001b[0m \u001b[0;34m**\u001b[0m\u001b[0mkwargs\u001b[0m\u001b[0;34m)\u001b[0m\u001b[0;34m\u001b[0m\u001b[0;34m\u001b[0m\u001b[0m\n\u001b[0m\u001b[1;32m    536\u001b[0m \u001b[0;34m\u001b[0m\u001b[0m\n\u001b[1;32m    537\u001b[0m     \u001b[0;32mdef\u001b[0m \u001b[0moptions\u001b[0m\u001b[0;34m(\u001b[0m\u001b[0mself\u001b[0m\u001b[0;34m,\u001b[0m \u001b[0murl\u001b[0m\u001b[0;34m,\u001b[0m \u001b[0;34m**\u001b[0m\u001b[0mkwargs\u001b[0m\u001b[0;34m)\u001b[0m\u001b[0;34m:\u001b[0m\u001b[0;34m\u001b[0m\u001b[0;34m\u001b[0m\u001b[0m\n",
      "\u001b[0;32m/nix/store/1p75vcb4phw4x10rk6jzm00b3jcccz40-python3-3.8.7-env/lib/python3.8/site-packages/requests/sessions.py\u001b[0m in \u001b[0;36mrequest\u001b[0;34m(self, method, url, params, data, headers, cookies, files, auth, timeout, allow_redirects, proxies, hooks, stream, verify, cert, json)\u001b[0m\n\u001b[1;32m    520\u001b[0m         }\n\u001b[1;32m    521\u001b[0m         \u001b[0msend_kwargs\u001b[0m\u001b[0;34m.\u001b[0m\u001b[0mupdate\u001b[0m\u001b[0;34m(\u001b[0m\u001b[0msettings\u001b[0m\u001b[0;34m)\u001b[0m\u001b[0;34m\u001b[0m\u001b[0;34m\u001b[0m\u001b[0m\n\u001b[0;32m--> 522\u001b[0;31m         \u001b[0mresp\u001b[0m \u001b[0;34m=\u001b[0m \u001b[0mself\u001b[0m\u001b[0;34m.\u001b[0m\u001b[0msend\u001b[0m\u001b[0;34m(\u001b[0m\u001b[0mprep\u001b[0m\u001b[0;34m,\u001b[0m \u001b[0;34m**\u001b[0m\u001b[0msend_kwargs\u001b[0m\u001b[0;34m)\u001b[0m\u001b[0;34m\u001b[0m\u001b[0;34m\u001b[0m\u001b[0m\n\u001b[0m\u001b[1;32m    523\u001b[0m \u001b[0;34m\u001b[0m\u001b[0m\n\u001b[1;32m    524\u001b[0m         \u001b[0;32mreturn\u001b[0m \u001b[0mresp\u001b[0m\u001b[0;34m\u001b[0m\u001b[0;34m\u001b[0m\u001b[0m\n",
      "\u001b[0;32m/nix/store/1p75vcb4phw4x10rk6jzm00b3jcccz40-python3-3.8.7-env/lib/python3.8/site-packages/requests/sessions.py\u001b[0m in \u001b[0;36msend\u001b[0;34m(self, request, **kwargs)\u001b[0m\n\u001b[1;32m    640\u001b[0m \u001b[0;34m\u001b[0m\u001b[0m\n\u001b[1;32m    641\u001b[0m         \u001b[0;31m# Send the request\u001b[0m\u001b[0;34m\u001b[0m\u001b[0;34m\u001b[0m\u001b[0;34m\u001b[0m\u001b[0m\n\u001b[0;32m--> 642\u001b[0;31m         \u001b[0mr\u001b[0m \u001b[0;34m=\u001b[0m \u001b[0madapter\u001b[0m\u001b[0;34m.\u001b[0m\u001b[0msend\u001b[0m\u001b[0;34m(\u001b[0m\u001b[0mrequest\u001b[0m\u001b[0;34m,\u001b[0m \u001b[0;34m**\u001b[0m\u001b[0mkwargs\u001b[0m\u001b[0;34m)\u001b[0m\u001b[0;34m\u001b[0m\u001b[0;34m\u001b[0m\u001b[0m\n\u001b[0m\u001b[1;32m    643\u001b[0m \u001b[0;34m\u001b[0m\u001b[0m\n\u001b[1;32m    644\u001b[0m         \u001b[0;31m# Total elapsed time of the request (approximately)\u001b[0m\u001b[0;34m\u001b[0m\u001b[0;34m\u001b[0m\u001b[0;34m\u001b[0m\u001b[0m\n",
      "\u001b[0;32m/nix/store/1p75vcb4phw4x10rk6jzm00b3jcccz40-python3-3.8.7-env/lib/python3.8/site-packages/requests/adapters.py\u001b[0m in \u001b[0;36msend\u001b[0;34m(self, request, stream, timeout, verify, cert, proxies)\u001b[0m\n\u001b[1;32m    427\u001b[0m         \u001b[0;32mtry\u001b[0m\u001b[0;34m:\u001b[0m\u001b[0;34m\u001b[0m\u001b[0;34m\u001b[0m\u001b[0m\n\u001b[1;32m    428\u001b[0m             \u001b[0;32mif\u001b[0m \u001b[0;32mnot\u001b[0m \u001b[0mchunked\u001b[0m\u001b[0;34m:\u001b[0m\u001b[0;34m\u001b[0m\u001b[0;34m\u001b[0m\u001b[0m\n\u001b[0;32m--> 429\u001b[0;31m                 resp = conn.urlopen(\n\u001b[0m\u001b[1;32m    430\u001b[0m                     \u001b[0mmethod\u001b[0m\u001b[0;34m=\u001b[0m\u001b[0mrequest\u001b[0m\u001b[0;34m.\u001b[0m\u001b[0mmethod\u001b[0m\u001b[0;34m,\u001b[0m\u001b[0;34m\u001b[0m\u001b[0;34m\u001b[0m\u001b[0m\n\u001b[1;32m    431\u001b[0m                     \u001b[0murl\u001b[0m\u001b[0;34m=\u001b[0m\u001b[0murl\u001b[0m\u001b[0;34m,\u001b[0m\u001b[0;34m\u001b[0m\u001b[0;34m\u001b[0m\u001b[0m\n",
      "\u001b[0;32m/nix/store/1p75vcb4phw4x10rk6jzm00b3jcccz40-python3-3.8.7-env/lib/python3.8/site-packages/requests/packages/urllib3/connectionpool.py\u001b[0m in \u001b[0;36murlopen\u001b[0;34m(self, method, url, body, headers, retries, redirect, assert_same_host, timeout, pool_timeout, release_conn, chunked, body_pos, **response_kw)\u001b[0m\n\u001b[1;32m    595\u001b[0m \u001b[0;34m\u001b[0m\u001b[0m\n\u001b[1;32m    596\u001b[0m             \u001b[0;31m# Make the request on the httplib connection object.\u001b[0m\u001b[0;34m\u001b[0m\u001b[0;34m\u001b[0m\u001b[0;34m\u001b[0m\u001b[0m\n\u001b[0;32m--> 597\u001b[0;31m             httplib_response = self._make_request(conn, method, url,\n\u001b[0m\u001b[1;32m    598\u001b[0m                                                   \u001b[0mtimeout\u001b[0m\u001b[0;34m=\u001b[0m\u001b[0mtimeout_obj\u001b[0m\u001b[0;34m,\u001b[0m\u001b[0;34m\u001b[0m\u001b[0;34m\u001b[0m\u001b[0m\n\u001b[1;32m    599\u001b[0m                                                   \u001b[0mbody\u001b[0m\u001b[0;34m=\u001b[0m\u001b[0mbody\u001b[0m\u001b[0;34m,\u001b[0m \u001b[0mheaders\u001b[0m\u001b[0;34m=\u001b[0m\u001b[0mheaders\u001b[0m\u001b[0;34m,\u001b[0m\u001b[0;34m\u001b[0m\u001b[0;34m\u001b[0m\u001b[0m\n",
      "\u001b[0;32m/nix/store/1p75vcb4phw4x10rk6jzm00b3jcccz40-python3-3.8.7-env/lib/python3.8/site-packages/requests/packages/urllib3/connectionpool.py\u001b[0m in \u001b[0;36m_make_request\u001b[0;34m(self, conn, method, url, timeout, chunked, **httplib_request_kw)\u001b[0m\n\u001b[1;32m    354\u001b[0m             \u001b[0mconn\u001b[0m\u001b[0;34m.\u001b[0m\u001b[0mrequest_chunked\u001b[0m\u001b[0;34m(\u001b[0m\u001b[0mmethod\u001b[0m\u001b[0;34m,\u001b[0m \u001b[0murl\u001b[0m\u001b[0;34m,\u001b[0m \u001b[0;34m**\u001b[0m\u001b[0mhttplib_request_kw\u001b[0m\u001b[0;34m)\u001b[0m\u001b[0;34m\u001b[0m\u001b[0;34m\u001b[0m\u001b[0m\n\u001b[1;32m    355\u001b[0m         \u001b[0;32melse\u001b[0m\u001b[0;34m:\u001b[0m\u001b[0;34m\u001b[0m\u001b[0;34m\u001b[0m\u001b[0m\n\u001b[0;32m--> 356\u001b[0;31m             \u001b[0mconn\u001b[0m\u001b[0;34m.\u001b[0m\u001b[0mrequest\u001b[0m\u001b[0;34m(\u001b[0m\u001b[0mmethod\u001b[0m\u001b[0;34m,\u001b[0m \u001b[0murl\u001b[0m\u001b[0;34m,\u001b[0m \u001b[0;34m**\u001b[0m\u001b[0mhttplib_request_kw\u001b[0m\u001b[0;34m)\u001b[0m\u001b[0;34m\u001b[0m\u001b[0;34m\u001b[0m\u001b[0m\n\u001b[0m\u001b[1;32m    357\u001b[0m \u001b[0;34m\u001b[0m\u001b[0m\n\u001b[1;32m    358\u001b[0m         \u001b[0;31m# Reset the timeout for the recv() on the socket\u001b[0m\u001b[0;34m\u001b[0m\u001b[0;34m\u001b[0m\u001b[0;34m\u001b[0m\u001b[0m\n",
      "\u001b[0;32m/nix/store/wkw6fsjasr7jbbrlakxxpbiapa8hws42-python3-3.8.7/lib/python3.8/http/client.py\u001b[0m in \u001b[0;36mrequest\u001b[0;34m(self, method, url, body, headers, encode_chunked)\u001b[0m\n\u001b[1;32m   1253\u001b[0m                 encode_chunked=False):\n\u001b[1;32m   1254\u001b[0m         \u001b[0;34m\"\"\"Send a complete request to the server.\"\"\"\u001b[0m\u001b[0;34m\u001b[0m\u001b[0;34m\u001b[0m\u001b[0m\n\u001b[0;32m-> 1255\u001b[0;31m         \u001b[0mself\u001b[0m\u001b[0;34m.\u001b[0m\u001b[0m_send_request\u001b[0m\u001b[0;34m(\u001b[0m\u001b[0mmethod\u001b[0m\u001b[0;34m,\u001b[0m \u001b[0murl\u001b[0m\u001b[0;34m,\u001b[0m \u001b[0mbody\u001b[0m\u001b[0;34m,\u001b[0m \u001b[0mheaders\u001b[0m\u001b[0;34m,\u001b[0m \u001b[0mencode_chunked\u001b[0m\u001b[0;34m)\u001b[0m\u001b[0;34m\u001b[0m\u001b[0;34m\u001b[0m\u001b[0m\n\u001b[0m\u001b[1;32m   1256\u001b[0m \u001b[0;34m\u001b[0m\u001b[0m\n\u001b[1;32m   1257\u001b[0m     \u001b[0;32mdef\u001b[0m \u001b[0m_send_request\u001b[0m\u001b[0;34m(\u001b[0m\u001b[0mself\u001b[0m\u001b[0;34m,\u001b[0m \u001b[0mmethod\u001b[0m\u001b[0;34m,\u001b[0m \u001b[0murl\u001b[0m\u001b[0;34m,\u001b[0m \u001b[0mbody\u001b[0m\u001b[0;34m,\u001b[0m \u001b[0mheaders\u001b[0m\u001b[0;34m,\u001b[0m \u001b[0mencode_chunked\u001b[0m\u001b[0;34m)\u001b[0m\u001b[0;34m:\u001b[0m\u001b[0;34m\u001b[0m\u001b[0;34m\u001b[0m\u001b[0m\n",
      "\u001b[0;32m/nix/store/wkw6fsjasr7jbbrlakxxpbiapa8hws42-python3-3.8.7/lib/python3.8/http/client.py\u001b[0m in \u001b[0;36m_send_request\u001b[0;34m(self, method, url, body, headers, encode_chunked)\u001b[0m\n\u001b[1;32m   1299\u001b[0m             \u001b[0;31m# default charset of iso-8859-1.\u001b[0m\u001b[0;34m\u001b[0m\u001b[0;34m\u001b[0m\u001b[0;34m\u001b[0m\u001b[0m\n\u001b[1;32m   1300\u001b[0m             \u001b[0mbody\u001b[0m \u001b[0;34m=\u001b[0m \u001b[0m_encode\u001b[0m\u001b[0;34m(\u001b[0m\u001b[0mbody\u001b[0m\u001b[0;34m,\u001b[0m \u001b[0;34m'body'\u001b[0m\u001b[0;34m)\u001b[0m\u001b[0;34m\u001b[0m\u001b[0;34m\u001b[0m\u001b[0m\n\u001b[0;32m-> 1301\u001b[0;31m         \u001b[0mself\u001b[0m\u001b[0;34m.\u001b[0m\u001b[0mendheaders\u001b[0m\u001b[0;34m(\u001b[0m\u001b[0mbody\u001b[0m\u001b[0;34m,\u001b[0m \u001b[0mencode_chunked\u001b[0m\u001b[0;34m=\u001b[0m\u001b[0mencode_chunked\u001b[0m\u001b[0;34m)\u001b[0m\u001b[0;34m\u001b[0m\u001b[0;34m\u001b[0m\u001b[0m\n\u001b[0m\u001b[1;32m   1302\u001b[0m \u001b[0;34m\u001b[0m\u001b[0m\n\u001b[1;32m   1303\u001b[0m     \u001b[0;32mdef\u001b[0m \u001b[0mgetresponse\u001b[0m\u001b[0;34m(\u001b[0m\u001b[0mself\u001b[0m\u001b[0;34m)\u001b[0m\u001b[0;34m:\u001b[0m\u001b[0;34m\u001b[0m\u001b[0;34m\u001b[0m\u001b[0m\n",
      "\u001b[0;32m/nix/store/wkw6fsjasr7jbbrlakxxpbiapa8hws42-python3-3.8.7/lib/python3.8/http/client.py\u001b[0m in \u001b[0;36mendheaders\u001b[0;34m(self, message_body, encode_chunked)\u001b[0m\n\u001b[1;32m   1248\u001b[0m         \u001b[0;32melse\u001b[0m\u001b[0;34m:\u001b[0m\u001b[0;34m\u001b[0m\u001b[0;34m\u001b[0m\u001b[0m\n\u001b[1;32m   1249\u001b[0m             \u001b[0;32mraise\u001b[0m \u001b[0mCannotSendHeader\u001b[0m\u001b[0;34m(\u001b[0m\u001b[0;34m)\u001b[0m\u001b[0;34m\u001b[0m\u001b[0;34m\u001b[0m\u001b[0m\n\u001b[0;32m-> 1250\u001b[0;31m         \u001b[0mself\u001b[0m\u001b[0;34m.\u001b[0m\u001b[0m_send_output\u001b[0m\u001b[0;34m(\u001b[0m\u001b[0mmessage_body\u001b[0m\u001b[0;34m,\u001b[0m \u001b[0mencode_chunked\u001b[0m\u001b[0;34m=\u001b[0m\u001b[0mencode_chunked\u001b[0m\u001b[0;34m)\u001b[0m\u001b[0;34m\u001b[0m\u001b[0;34m\u001b[0m\u001b[0m\n\u001b[0m\u001b[1;32m   1251\u001b[0m \u001b[0;34m\u001b[0m\u001b[0m\n\u001b[1;32m   1252\u001b[0m     def request(self, method, url, body=None, headers={}, *,\n",
      "\u001b[0;32m/nix/store/wkw6fsjasr7jbbrlakxxpbiapa8hws42-python3-3.8.7/lib/python3.8/http/client.py\u001b[0m in \u001b[0;36m_send_output\u001b[0;34m(self, message_body, encode_chunked)\u001b[0m\n\u001b[1;32m   1008\u001b[0m         \u001b[0mmsg\u001b[0m \u001b[0;34m=\u001b[0m \u001b[0;34mb\"\\r\\n\"\u001b[0m\u001b[0;34m.\u001b[0m\u001b[0mjoin\u001b[0m\u001b[0;34m(\u001b[0m\u001b[0mself\u001b[0m\u001b[0;34m.\u001b[0m\u001b[0m_buffer\u001b[0m\u001b[0;34m)\u001b[0m\u001b[0;34m\u001b[0m\u001b[0;34m\u001b[0m\u001b[0m\n\u001b[1;32m   1009\u001b[0m         \u001b[0;32mdel\u001b[0m \u001b[0mself\u001b[0m\u001b[0;34m.\u001b[0m\u001b[0m_buffer\u001b[0m\u001b[0;34m[\u001b[0m\u001b[0;34m:\u001b[0m\u001b[0;34m]\u001b[0m\u001b[0;34m\u001b[0m\u001b[0;34m\u001b[0m\u001b[0m\n\u001b[0;32m-> 1010\u001b[0;31m         \u001b[0mself\u001b[0m\u001b[0;34m.\u001b[0m\u001b[0msend\u001b[0m\u001b[0;34m(\u001b[0m\u001b[0mmsg\u001b[0m\u001b[0;34m)\u001b[0m\u001b[0;34m\u001b[0m\u001b[0;34m\u001b[0m\u001b[0m\n\u001b[0m\u001b[1;32m   1011\u001b[0m \u001b[0;34m\u001b[0m\u001b[0m\n\u001b[1;32m   1012\u001b[0m         \u001b[0;32mif\u001b[0m \u001b[0mmessage_body\u001b[0m \u001b[0;32mis\u001b[0m \u001b[0;32mnot\u001b[0m \u001b[0;32mNone\u001b[0m\u001b[0;34m:\u001b[0m\u001b[0;34m\u001b[0m\u001b[0;34m\u001b[0m\u001b[0m\n",
      "\u001b[0;32m/nix/store/wkw6fsjasr7jbbrlakxxpbiapa8hws42-python3-3.8.7/lib/python3.8/http/client.py\u001b[0m in \u001b[0;36msend\u001b[0;34m(self, data)\u001b[0m\n\u001b[1;32m    948\u001b[0m         \u001b[0;32mif\u001b[0m \u001b[0mself\u001b[0m\u001b[0;34m.\u001b[0m\u001b[0msock\u001b[0m \u001b[0;32mis\u001b[0m \u001b[0;32mNone\u001b[0m\u001b[0;34m:\u001b[0m\u001b[0;34m\u001b[0m\u001b[0;34m\u001b[0m\u001b[0m\n\u001b[1;32m    949\u001b[0m             \u001b[0;32mif\u001b[0m \u001b[0mself\u001b[0m\u001b[0;34m.\u001b[0m\u001b[0mauto_open\u001b[0m\u001b[0;34m:\u001b[0m\u001b[0;34m\u001b[0m\u001b[0;34m\u001b[0m\u001b[0m\n\u001b[0;32m--> 950\u001b[0;31m                 \u001b[0mself\u001b[0m\u001b[0;34m.\u001b[0m\u001b[0mconnect\u001b[0m\u001b[0;34m(\u001b[0m\u001b[0;34m)\u001b[0m\u001b[0;34m\u001b[0m\u001b[0;34m\u001b[0m\u001b[0m\n\u001b[0m\u001b[1;32m    951\u001b[0m             \u001b[0;32melse\u001b[0m\u001b[0;34m:\u001b[0m\u001b[0;34m\u001b[0m\u001b[0;34m\u001b[0m\u001b[0m\n\u001b[1;32m    952\u001b[0m                 \u001b[0;32mraise\u001b[0m \u001b[0mNotConnected\u001b[0m\u001b[0;34m(\u001b[0m\u001b[0;34m)\u001b[0m\u001b[0;34m\u001b[0m\u001b[0;34m\u001b[0m\u001b[0m\n",
      "\u001b[0;32m/nix/store/1p75vcb4phw4x10rk6jzm00b3jcccz40-python3-3.8.7-env/lib/python3.8/site-packages/requests/packages/urllib3/connection.py\u001b[0m in \u001b[0;36mconnect\u001b[0;34m(self)\u001b[0m\n\u001b[1;32m    164\u001b[0m \u001b[0;34m\u001b[0m\u001b[0m\n\u001b[1;32m    165\u001b[0m     \u001b[0;32mdef\u001b[0m \u001b[0mconnect\u001b[0m\u001b[0;34m(\u001b[0m\u001b[0mself\u001b[0m\u001b[0;34m)\u001b[0m\u001b[0;34m:\u001b[0m\u001b[0;34m\u001b[0m\u001b[0;34m\u001b[0m\u001b[0m\n\u001b[0;32m--> 166\u001b[0;31m         \u001b[0mconn\u001b[0m \u001b[0;34m=\u001b[0m \u001b[0mself\u001b[0m\u001b[0;34m.\u001b[0m\u001b[0m_new_conn\u001b[0m\u001b[0;34m(\u001b[0m\u001b[0;34m)\u001b[0m\u001b[0;34m\u001b[0m\u001b[0;34m\u001b[0m\u001b[0m\n\u001b[0m\u001b[1;32m    167\u001b[0m         \u001b[0mself\u001b[0m\u001b[0;34m.\u001b[0m\u001b[0m_prepare_conn\u001b[0m\u001b[0;34m(\u001b[0m\u001b[0mconn\u001b[0m\u001b[0;34m)\u001b[0m\u001b[0;34m\u001b[0m\u001b[0;34m\u001b[0m\u001b[0m\n\u001b[1;32m    168\u001b[0m \u001b[0;34m\u001b[0m\u001b[0m\n",
      "\u001b[0;32m/nix/store/1p75vcb4phw4x10rk6jzm00b3jcccz40-python3-3.8.7-env/lib/python3.8/site-packages/requests/packages/urllib3/connection.py\u001b[0m in \u001b[0;36m_new_conn\u001b[0;34m(self)\u001b[0m\n\u001b[1;32m    138\u001b[0m \u001b[0;34m\u001b[0m\u001b[0m\n\u001b[1;32m    139\u001b[0m         \u001b[0;32mtry\u001b[0m\u001b[0;34m:\u001b[0m\u001b[0;34m\u001b[0m\u001b[0;34m\u001b[0m\u001b[0m\n\u001b[0;32m--> 140\u001b[0;31m             conn = connection.create_connection(\n\u001b[0m\u001b[1;32m    141\u001b[0m                 (self.host, self.port), self.timeout, **extra_kw)\n\u001b[1;32m    142\u001b[0m \u001b[0;34m\u001b[0m\u001b[0m\n",
      "\u001b[0;32m/nix/store/1p75vcb4phw4x10rk6jzm00b3jcccz40-python3-3.8.7-env/lib/python3.8/site-packages/requests/packages/urllib3/util/connection.py\u001b[0m in \u001b[0;36mcreate_connection\u001b[0;34m(address, timeout, source_address, socket_options)\u001b[0m\n\u001b[1;32m     71\u001b[0m             \u001b[0;32mif\u001b[0m \u001b[0msource_address\u001b[0m\u001b[0;34m:\u001b[0m\u001b[0;34m\u001b[0m\u001b[0;34m\u001b[0m\u001b[0m\n\u001b[1;32m     72\u001b[0m                 \u001b[0msock\u001b[0m\u001b[0;34m.\u001b[0m\u001b[0mbind\u001b[0m\u001b[0;34m(\u001b[0m\u001b[0msource_address\u001b[0m\u001b[0;34m)\u001b[0m\u001b[0;34m\u001b[0m\u001b[0;34m\u001b[0m\u001b[0m\n\u001b[0;32m---> 73\u001b[0;31m             \u001b[0msock\u001b[0m\u001b[0;34m.\u001b[0m\u001b[0mconnect\u001b[0m\u001b[0;34m(\u001b[0m\u001b[0msa\u001b[0m\u001b[0;34m)\u001b[0m\u001b[0;34m\u001b[0m\u001b[0;34m\u001b[0m\u001b[0m\n\u001b[0m\u001b[1;32m     74\u001b[0m             \u001b[0;32mreturn\u001b[0m \u001b[0msock\u001b[0m\u001b[0;34m\u001b[0m\u001b[0;34m\u001b[0m\u001b[0m\n\u001b[1;32m     75\u001b[0m \u001b[0;34m\u001b[0m\u001b[0m\n",
      "\u001b[0;31mKeyboardInterrupt\u001b[0m: "
     ]
    }
   ],
   "source": [
    "for i, df in pfocr_disease_df[pfocr_disease_df[\"network_id\"].notnull()].groupby(\n",
    "    by=\"pfocr_id\"\n",
    "):\n",
    "    network_id = df[\"network_id\"].iloc[0]\n",
    "    pfocr_id = df[\"pfocr_id\"].iloc[0]\n",
    "\n",
    "    # TODO: are either of these calls fine?\n",
    "    my_ndex.set_read_only(network_id, False)\n",
    "    # my_ndex.set_network_system_properties(network_id, {\"readOnly\": False})\n",
    "\n",
    "    network_properties = my_ndex.get_network_summary(network_id)[\"properties\"]\n",
    "\n",
    "    # Here's a sample of a disease property value from a WikiPathways network:\n",
    "    # <a href=\"https://identifiers.org/doid/DOID:332\">ALS</a>, <a href=\"https://identifiers.org/doid/DOID:332\">amyotrophic lateral sclerosis</a>\n",
    "\n",
    "    disease_links = list()\n",
    "    for i, subdf in df[[\"terms\", \"doid\"]].iterrows():\n",
    "        term = subdf[\"terms\"]\n",
    "        doid = subdf[\"doid\"]\n",
    "        disease_links.append(\n",
    "            f'<a href=\"https://identifiers.org/doid/{doid}\">{term}</a>'\n",
    "        )\n",
    "\n",
    "    disease_value = \", \".join(disease_links)\n",
    "\n",
    "    disease_property = next(\n",
    "        (x for x in network_properties if x[\"predicateString\"] == \"disease\"), None\n",
    "    )\n",
    "    if disease_property:\n",
    "        disease_property[\"value\"] = disease_value\n",
    "    else:\n",
    "        network_properties.append(\n",
    "            {\n",
    "                \"subNetworkId\": \"\",\n",
    "                \"predicateString\": \"disease\",\n",
    "                \"dataType\": \"string\",\n",
    "                \"value\": disease_value,\n",
    "            }\n",
    "        )\n",
    "\n",
    "    my_ndex.set_network_properties(network_id, network_properties)\n",
    "\n",
    "    # my_ndex.set_network_system_properties(network_id, {\"readOnly\": True})\n",
    "    my_ndex.set_read_only(network_id, True)"
   ]
  }
 ],
 "metadata": {
  "jupytext": {
   "formats": "ipynb,py:light"
  },
  "kernelspec": {
   "display_name": "Python3 - mypkgs",
   "language": "python",
   "name": "ipython_mypkgs"
  },
  "language_info": {
   "codemirror_mode": {
    "name": "ipython",
    "version": 3
   },
   "file_extension": ".py",
   "mimetype": "text/x-python",
   "name": "python",
   "nbconvert_exporter": "python",
   "pygments_lexer": "ipython3",
   "version": "3.8.7"
  }
 },
 "nbformat": 4,
 "nbformat_minor": 4
}
